{
 "cells": [
  {
   "cell_type": "markdown",
   "metadata": {},
   "source": [
    "# Lista de exercícios\n",
    "\n",
    "Além das respostas, você deve também inserir um texto (comentário) para cada uma das questões, explicando as decisões feitas para cada parte do programa desenvolvido. Para inserir um comentário dentro do seu código-fonte, adicione uma hashtag no início de cada frase. Por exemplo:\n",
    "\n",
    "```python\n",
    "# Imprime no console a frase 'Olá, mundo!'\n",
    "print('Olá, mundo!')\n",
    "```"
   ]
  },
  {
   "cell_type": "markdown",
   "metadata": {},
   "source": [
    "## Strings\n",
    "\n",
    "1. Escreva um programa que leia seu nome e o imprima em letras maiúsculas.\n",
    "1. Escreva um programa que leia seu nome e retorne a frase: \"Olá, nome\". Obs.: Substitua nome pelo nome inserido pelo usuário."
   ]
  },
  {
   "cell_type": "markdown",
   "metadata": {},
   "source": [
    "## Condicionais\n",
    "\n",
    "1. Escreva um programa que leia o nome e a idade do usuário e imprima o nome do usuário em letras maiúsculas, caso a idade seja par, se a idade for ímpar, imprima o nome em letras minúsculas."
   ]
  },
  {
   "cell_type": "markdown",
   "metadata": {},
   "source": [
    "## Listas\n",
    "\n",
    "1. Escreva um programa que recebe uma lista de palavras e imprime a maior palavra. Primeiro, leia o número de palavras e continue lendo até que todas as palavras tenham sido armazenadas. Em seguida, imprima a maior palavra. Por exemplo:\n",
    "\n",
    "    * Entrada:\n",
    "    \n",
    "    Número de palavras: 3\n",
    "     \n",
    "    Palavra: contrato\n",
    "\n",
    "    Palavra: documento\n",
    "\n",
    "    Palavra: computador\n",
    "    \n",
    "    * Saída:\n",
    "    \n",
    "     computador\n"
   ]
  },
  {
   "cell_type": "markdown",
   "metadata": {},
   "source": [
    "## Estruturas de repetição\n",
    "\n",
    "1. Escreva um programa que armazene uma lista de palavras e receba uma palavra (através do comando `input`), e verifique se a palavra inserida pelo usuário, existe na lista de palavras. Caso a palavra exista na lista, imprima \"Sim\", caso contrário, imprima \"Não\". Por exemplo:\n",
    "```\n",
    "lista_palavras = ['advogado', 'medico', 'dentista', 'programador']\n",
    "```\n",
    "    - Se o usuário digitar 'advogado', o programa deve retornar \"Sim\",\n",
    "    - Se o usuário digitar 'carpinteiro', o programa deve retornar \"Não\".\n"
   ]
  },
  {
   "cell_type": "code",
   "execution_count": null,
   "metadata": {},
   "outputs": [],
   "source": []
  }
 ],
 "metadata": {
  "kernelspec": {
   "display_name": "Python 3",
   "language": "python",
   "name": "python3"
  },
  "language_info": {
   "codemirror_mode": {
    "name": "ipython",
    "version": 3
   },
   "file_extension": ".py",
   "mimetype": "text/x-python",
   "name": "python",
   "nbconvert_exporter": "python",
   "pygments_lexer": "ipython3",
   "version": "3.6.1"
  }
 },
 "nbformat": 4,
 "nbformat_minor": 2
}
