{
 "cells": [
  {
   "cell_type": "markdown",
   "metadata": {},
   "source": [
    "# Apostila de Introdução à Programação"
   ]
  },
  {
   "cell_type": "markdown",
   "metadata": {},
   "source": [
    "### Com ênfase em automação de documentos"
   ]
  },
  {
   "cell_type": "markdown",
   "metadata": {},
   "source": [
    "### Índice"
   ]
  },
  {
   "cell_type": "markdown",
   "metadata": {},
   "source": [
    "<ol>\n",
    "    <li>Variáveis e tipos de dados</li>\n",
    "    <li>Operadores numéricos</li>\n",
    "    <li>Operadores booleanos/lógicos</li>\n",
    "    <li>Conversão de tipos</li>\n",
    "    <li>Entrada e saída de dados</li>\n",
    "    <li>Condicionais</li>\n",
    "    <li>Strings</li>\n",
    "    <li>Listas, tuplas e dicionários</li>\n",
    "    <li>Estruturas de repetição</li>\n",
    "    <li>Funções</li>\n",
    "    <li>Leitura de arquivos</li>\n",
    "    <li>Manipulação de arquivos de texto</li>\n",
    "</ol>"
   ]
  },
  {
   "cell_type": "markdown",
   "metadata": {},
   "source": [
    "<h1>Variáveis e tipos de dados</h1>"
   ]
  },
  {
   "cell_type": "markdown",
   "metadata": {},
   "source": [
    "<h2>Conceito de Variável</h2>\n",
    "\n",
    "Variáveis se referem a uma forma de armazenar alguma informação e poder tratá-la sem necessariamente saber o seu valor a priori. Imagine que precisamos tratar o nome e a idade de um usuário por exemplo. Considere também dois personagens: Alice e Jorge. Jorge tem 20 anos e Alice 25. Caso Jorge e Alice precisem utilizar esse programa, ele precisa considerar que essas informações vão variar para esses dois usuários, assim como para qualquer outro que utilize esse programa e que nem foram mencionados aqui.\n",
    "\n",
    "Variáveis são definidas através de um nome (um conjunto de letras) que o programador define como achar melhor. É uma boa prática colocar nomes de variáveis que sejam significativos ao contexto do programa, para facilitar o entendimento, caso seja necessário revisar esse código posteriormente. Imagine que ao invés de nomearmos a variável \"idade\" para armazenarmos a idade de Jorge, nomeássemos de \"altura\". Isso iria confundir outras pessoas que precisassem revisar o código (e talvez até o próprio autor do programa).\n",
    "\n",
    "Inicialmente vamos definir as duas variáveis:"
   ]
  },
  {
   "cell_type": "code",
   "execution_count": 1,
   "metadata": {},
   "outputs": [],
   "source": [
    "nome = 'Jorge'\n",
    "idade = 20"
   ]
  },
  {
   "cell_type": "markdown",
   "metadata": {},
   "source": [
    "<h2>Tipos de dados</h2>\n",
    "\n",
    "O tipo de um dado é uma forma de classificar o dado. Variáveis, como o nome e a idade de um usuário, tem naturezas diferentes pois tratam de dados diferentes. Podemos dizer que o tempo influencia diretamente na idade de uma pessoa, mas não influencia no nome."
   ]
  },
  {
   "cell_type": "markdown",
   "metadata": {},
   "source": [
    "<h1>Operadores numéricos</h1>"
   ]
  },
  {
   "cell_type": "code",
   "execution_count": null,
   "metadata": {},
   "outputs": [],
   "source": []
  },
  {
   "cell_type": "markdown",
   "metadata": {},
   "source": [
    "<h1>Operadores booleanos/lógicos</h1>"
   ]
  },
  {
   "cell_type": "code",
   "execution_count": null,
   "metadata": {},
   "outputs": [],
   "source": []
  }
 ],
 "metadata": {
  "kernelspec": {
   "display_name": "Python 3",
   "language": "python",
   "name": "python3"
  },
  "language_info": {
   "codemirror_mode": {
    "name": "ipython",
    "version": 3
   },
   "file_extension": ".py",
   "mimetype": "text/x-python",
   "name": "python",
   "nbconvert_exporter": "python",
   "pygments_lexer": "ipython3",
   "version": "3.7.4"
  }
 },
 "nbformat": 4,
 "nbformat_minor": 2
}
