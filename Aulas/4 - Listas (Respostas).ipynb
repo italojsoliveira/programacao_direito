{
 "cells": [
  {
   "cell_type": "markdown",
   "metadata": {},
   "source": [
    "<h3>Respostas dos exercícios</h3>"
   ]
  },
  {
   "cell_type": "markdown",
   "metadata": {},
   "source": [
    "<h2>Listas</h2>"
   ]
  },
  {
   "cell_type": "markdown",
   "metadata": {},
   "source": [
    "<p>Atribua a uma variável em seu programa um string entre aspas triplas contendo esse documento:</p>\n",
    "        IDENTIFICAÇÃO DAS PARTES CONTRATANTES\n",
    "\n",
    "        VENDEDOR: (Nome do Vendedor), (Nacionalidade), (Estado Civil), C.P.F. nº (xxx);\n",
    "       \n",
    "        COMPRADOR: (Nome do Comprador), (Nacionalidade), (Estado Civil), C.P.F. nº (xxx).\n",
    "       \n",
    "        As partes acima identificadas têm, entre si, justo e acertado o presente Contrato de Compra e Venda de Bem Imóvel à Vista entre Pessoas Físicas, que se regerá pelas cláusulas seguintes e pelas condições descritas no presente.\n",
    "<p>Escreva um programa recebe o nome do vendedor, nacionalidade, estado civil e cpf; assim como todas essas informações do comprador. Seu programa deve imprimir o documento referente à identificação das partes contrantes.</p>\n",
    "    <li>\n",
    "        <p>Escreva um programa que conta o número de palavras que contém a letra ‘e’ em um string. Seu programa deve imprimir uma análise desse texto da seguinte forma:</p>\n",
    "        <p>Seu texto contém 243 palavras, das quais 109 (44.8%) contém um 'e'.</p>\n",
    "    </li>"
   ]
  },
  {
   "cell_type": "code",
   "execution_count": 1,
   "metadata": {},
   "outputs": [
    {
     "name": "stdout",
     "output_type": "stream",
     "text": [
      "Digite nome do vendedor: Maria Jose\n",
      "Digite nacionalidade do vendedor: Brasileira\n",
      "Digite estado civil do vendedor: solteira\n",
      "Digite CPF do vendedor: 12345\n",
      "Digite nome do comprador: Jose Carlos\n",
      "Digite nacionalidade do comprador: Brasileiro\n",
      "Digite estado civil do comprador: Casado\n",
      "Digite CPF do comprador: 123456\n",
      "\n",
      "IDENTIFICAÇÃO DAS PARTES CONTRATANTES\n",
      "    VENDEDOR: (MARIA JOSE), (BRASILEIRA), (solteira), C.P.F. nº (12345);\n",
      "\n",
      "    COMPRADOR: (JOSE CARLOS), (BRASILEIRO), (Casado), C.P.F. nº (123456).\n",
      "\n",
      "    As partes acima identificadas têm, entre si, justo e acertado o presente Contrato de Compra e Venda de Bem Imóvel à Vista entre Pessoas Físicas, que se regerá pelas cláusulas seguintes e pelas condições descritas no presente.\n",
      "\n"
     ]
    }
   ],
   "source": [
    "documento = '''\n",
    "IDENTIFICAÇÃO DAS PARTES CONTRATANTES\n",
    "    VENDEDOR: ({}), ({}), ({}), C.P.F. nº ({});\n",
    "\n",
    "    COMPRADOR: ({}), ({}), ({}), C.P.F. nº ({}).\n",
    "\n",
    "    As partes acima identificadas têm, entre si, justo e acertado o presente Contrato de Compra e Venda de Bem Imóvel à Vista entre Pessoas Físicas, que se regerá pelas cláusulas seguintes e pelas condições descritas no presente.\n",
    "'''\n",
    "nome_vendedor = input('Digite nome do vendedor: ')\n",
    "nome_vendedor = nome_vendedor.upper()\n",
    "nacionalidade_vendedor = input('Digite nacionalidade do vendedor: ')\n",
    "nacionalidade_vendedor = nacionalidade_vendedor.upper()\n",
    "estado_civil_vendedor = input('Digite estado civil do vendedor: ')\n",
    "cpf_vendedor = input('Digite CPF do vendedor: ')\n",
    "\n",
    "nome_comprador = input('Digite nome do comprador: ')\n",
    "nome_comprador = nome_comprador.upper()\n",
    "nacionalidade_comprador = input('Digite nacionalidade do comprador: ')\n",
    "nacionalidade_comprador = nacionalidade_comprador.upper()\n",
    "estado_civil_comprador = input('Digite estado civil do comprador: ')\n",
    "cpf_comprador = input('Digite CPF do comprador: ')\n",
    "\n",
    "print(documento.format(nome_vendedor, nacionalidade_vendedor, estado_civil_vendedor, cpf_vendedor, nome_comprador, nacionalidade_comprador, estado_civil_comprador, cpf_comprador))"
   ]
  }
 ],
 "metadata": {
  "kernelspec": {
   "display_name": "Python 3",
   "language": "python",
   "name": "python3"
  },
  "language_info": {
   "codemirror_mode": {
    "name": "ipython",
    "version": 3
   },
   "file_extension": ".py",
   "mimetype": "text/x-python",
   "name": "python",
   "nbconvert_exporter": "python",
   "pygments_lexer": "ipython3",
   "version": "3.6.1"
  }
 },
 "nbformat": 4,
 "nbformat_minor": 2
}
