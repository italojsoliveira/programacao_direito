{
 "cells": [
  {
   "cell_type": "markdown",
   "metadata": {},
   "source": [
    "### Respostas dos exercícios\n",
    "\n",
    "## Listas"
   ]
  },
  {
   "cell_type": "markdown",
   "metadata": {},
   "source": [
    "Considere o seguinte trecho de código em Python, que atribui à variável ```template```, o seguinte documento:\n",
    "\n",
    "```python\n",
    "template = '''\n",
    "IDENTIFICAÇÃO DAS PARTES CONTRATANTES\n",
    "VENDEDOR: (Nome), (Nacionalidade), (Estado Civil), C.P.F. nº (CPF);\n",
    "COMPRADOR: (Nome), (Nacionalidade), (Estado Civil), C.P.F. nº (CPF).\n",
    "As partes acima identificadas têm, entre si, justo e acertado o presente \n",
    "Contrato de Compra e Venda de Bem Imóvel à Vista entre Pessoas Físicas, \n",
    "que se regerá pelas cláusulas seguintes e \n",
    "pelas condições descritas no presente.\n",
    "'''\n",
    "```\n",
    "        \n",
    "Escreva um programa recebe o nome do vendedor, nacionalidade, estado civil e cpf; assim como todas essas mesmas informações (nome, nacionalidade, estado civil e cpf) do comprador. \n",
    "\n",
    "Inicialmente, o programa deve imprimir as informações recebidas em formato de lista, tanto para o vendedor quanto para o comprador. Os nomes e as nacionalidades (tanto do vendedor quanto do comprador) devem ser apresentadas em maiúsculo. \n",
    "\n",
    "Seu programa deve imprimir no console, o documento gerado, referente à identificação das partes contrantes."
   ]
  },
  {
   "cell_type": "code",
   "execution_count": 2,
   "metadata": {},
   "outputs": [
    {
     "name": "stdout",
     "output_type": "stream",
     "text": [
      "Digite nome do vendedor: Renato\n",
      "Digite nacionalidade do vendedor: brasileiro\n",
      "Digite estado civil do vendedor: solteiro\n",
      "Digite CPF do vendedor: 1234\n",
      "Digite nome do comprador: Erica\n",
      "Digite nacionalidade do comprador: brasileira\n",
      "Digite estado civil do comprador: casada\n",
      "Digite CPF do comprador: 1235\n",
      "\n",
      "IDENTIFICAÇÃO DAS PARTES CONTRATANTES\n",
      "VENDEDOR: (RENATO), (BRASILEIRO), (solteiro), C.P.F. nº (1234);\n",
      "COMPRADOR: (ERICA), (BRASILEIRA), (casada), C.P.F. nº (1235).\n",
      "As partes acima identificadas têm, entre si, justo e acertado o presente \n",
      "Contrato de Compra e Venda de Bem Imóvel à Vista entre Pessoas Físicas, \n",
      "que se regerá pelas cláusulas seguintes e \n",
      "pelas condições descritas no presente.\n",
      "\n"
     ]
    }
   ],
   "source": [
    "template = '''\n",
    "IDENTIFICAÇÃO DAS PARTES CONTRATANTES\n",
    "VENDEDOR: ({}), ({}), ({}), C.P.F. nº ({});\n",
    "COMPRADOR: ({}), ({}), ({}), C.P.F. nº ({}).\n",
    "As partes acima identificadas têm, entre si, justo e acertado o presente \n",
    "Contrato de Compra e Venda de Bem Imóvel à Vista entre Pessoas Físicas, \n",
    "que se regerá pelas cláusulas seguintes e \n",
    "pelas condições descritas no presente.\n",
    "'''\n",
    "\n",
    "nome_vendedor = input('Digite nome do vendedor: ')\n",
    "nome_vendedor = nome_vendedor.upper()\n",
    "nacionalidade_vendedor = input('Digite nacionalidade do vendedor: ')\n",
    "nacionalidade_vendedor = nacionalidade_vendedor.upper()\n",
    "estado_civil_vendedor = input('Digite estado civil do vendedor: ')\n",
    "cpf_vendedor = input('Digite CPF do vendedor: ')\n",
    "\n",
    "nome_comprador = input('Digite nome do comprador: ')\n",
    "nome_comprador = nome_comprador.upper()\n",
    "nacionalidade_comprador = input('Digite nacionalidade do comprador: ')\n",
    "nacionalidade_comprador = nacionalidade_comprador.upper()\n",
    "estado_civil_comprador = input('Digite estado civil do comprador: ')\n",
    "cpf_comprador = input('Digite CPF do comprador: ')\n",
    "\n",
    "print(template.format(nome_vendedor, nacionalidade_vendedor, estado_civil_vendedor, cpf_vendedor, nome_comprador, nacionalidade_comprador, estado_civil_comprador, cpf_comprador))"
   ]
  },
  {
   "cell_type": "markdown",
   "metadata": {},
   "source": [
    "## Referências\n",
    "\n",
    "#### https://github.com/dsacademybr/PythonFundamentos\n",
    "#### https://github.com/dsacademybr/PythonFundamentos/blob/master/Cap02/Notebooks/DSA-Python-Cap02-04-Listas.ipynb"
   ]
  },
  {
   "cell_type": "code",
   "execution_count": null,
   "metadata": {},
   "outputs": [],
   "source": []
  }
 ],
 "metadata": {
  "kernelspec": {
   "display_name": "Python 3",
   "language": "python",
   "name": "python3"
  },
  "language_info": {
   "codemirror_mode": {
    "name": "ipython",
    "version": 3
   },
   "file_extension": ".py",
   "mimetype": "text/x-python",
   "name": "python",
   "nbconvert_exporter": "python",
   "pygments_lexer": "ipython3",
   "version": "3.6.1"
  }
 },
 "nbformat": 4,
 "nbformat_minor": 2
}
