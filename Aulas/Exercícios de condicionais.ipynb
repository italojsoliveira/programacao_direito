{
 "cells": [
  {
   "cell_type": "markdown",
   "metadata": {},
   "source": [
    "<ol>\n",
    "    <li>Faça um programa que peça dois números e imprima o maior deles.</li>\n",
    "    <li>Faça um programa que peça um valor e mostre na tela se o valor é positivo ou negativo.</li>\n",
    "    <li>Faça um programa que verifique se uma letra digitada é \"F\" ou \"M\". Conforme a entrada do usuário, se a entrada for \"F\", retorne \"Feminino\", se \"M\", retorne \"Masculino\", caso contrário, retorne \"Sexo Inválido\".</li>\n",
    "    <li>Faça um programa que verifique se uma letra digitada é vogal ou consoante.</li>\n",
    "    <li>Faça um programa que receba uma idade e responda se a pessoa é \"absolutamente incapaz\", \"relativamente incapaz\" e \"plenamente capaz\". O programa deve apresentar:\n",
    "        <ul>\n",
    "            <li>A mensagem \"absolutamente incapaz\", se a idade for menor que 16;</li>\n",
    "            <li>A mensagem \"relativamente incapaz\", se a idade for maior que 16 e menor que 18;</li>\n",
    "            <li>A mensagem \"plenamente capaz\", se a idade for maior ou igual a 18.</li>\n",
    "        </ul>\n",
    "    </li>\n",
    "    <li>Faça um programa que receba uma idade e o estado civil e responda se a pessoa é \"absolutamente incapaz\", \"relativamente incapaz\" e \"plenamente capaz\". O programa deve apresentar:\n",
    "        <ul>\n",
    "            <li>A mensagem \"plenamente capaz\", se o estado civil for \"casado\";</li>\n",
    "            <li>A mensagem \"absolutamente incapaz\", se a idade for menor que 16;</li>\n",
    "            <li>A mensagem \"relativamente incapaz\", se a idade for maior que 16 e menor que 18;</li>\n",
    "            <li>A mensagem \"plenamente capaz\", se a idade for maior ou igual a 18.</li>\n",
    "        </ul>\n",
    "    </li>\n",
    "    <li>Faça um programa para o cálculo de uma folha de pagamento, sabendo que os descontos são do Imposto de Renda, que depende do salário bruto (conforme tabela abaixo) e 3% para o Sindicato e que o FGTS corresponde a 11% do Salário Bruto, mas não é descontado (é a empresa que deposita). O Salário Líquido corresponde ao Salário Bruto menos os descontos. O programa deverá pedir ao usuário o valor da sua hora e a quantidade de horas trabalhadas no mês.\n",
    "Desconto do IR:\n",
    "        <ul>\n",
    "            <li>Salário Bruto até 900 (inclusive) - isento</li>\n",
    "            <li>Salário Bruto até 1500 (inclusive) - desconto de 5%</li>\n",
    "            <li>Salário Bruto até 2500 (inclusive) - desconto de 10%</li>\n",
    "            <li>Salário Bruto acima de 2500 - desconto de 20%</li>\n",
    "        </ul>\n",
    "\n",
    "\n",
    " Imprima na tela as informações, dispostas conforme o exemplo abaixo. No exemplo o valor da hora é 5 e a quantidade de hora é 220.\n",
    "         <ul>\n",
    "            <li>Salário Bruto: (5 * 220): R\\$1100,00</li>\n",
    "            <li>IR (5\\%): R\\$55,00</li>\n",
    "            <li>INSS (10\\%): R\\$110,00</li>\n",
    "            <li>FGTS (11\\%): R\\$121,00</li>\n",
    "            <li> Total de descontos: R\\$165,00</li>\n",
    "            <li>Salário Liquido: R\\$935,00</li>\n",
    "        </ul>\n",
    "    </li>\n",
    "</ol>"
   ]
  },
  {
   "cell_type": "code",
   "execution_count": null,
   "metadata": {},
   "outputs": [],
   "source": []
  }
 ],
 "metadata": {
  "kernelspec": {
   "display_name": "Python 3",
   "language": "python",
   "name": "python3"
  },
  "language_info": {
   "codemirror_mode": {
    "name": "ipython",
    "version": 3
   },
   "file_extension": ".py",
   "mimetype": "text/x-python",
   "name": "python",
   "nbconvert_exporter": "python",
   "pygments_lexer": "ipython3",
   "version": "3.6.1"
  }
 },
 "nbformat": 4,
 "nbformat_minor": 2
}
