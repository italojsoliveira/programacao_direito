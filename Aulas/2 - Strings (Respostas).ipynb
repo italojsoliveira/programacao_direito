{
 "cells": [
  {
   "cell_type": "markdown",
   "metadata": {},
   "source": [
    "<h3>Respostas dos exercícios</h3>"
   ]
  },
  {
   "cell_type": "markdown",
   "metadata": {},
   "source": [
    "<h2>Strings</h2>"
   ]
  },
  {
   "cell_type": "markdown",
   "metadata": {},
   "source": [
    "<p>Escreva um programa que retorna o número de dígitos de um inteiro.</p>"
   ]
  },
  {
   "cell_type": "code",
   "execution_count": 2,
   "metadata": {},
   "outputs": [
    {
     "name": "stdout",
     "output_type": "stream",
     "text": [
      "Digite número: 1234567890\n",
      "10\n"
     ]
    }
   ],
   "source": [
    "numero = input('Digite número: ')\n",
    "numero_digitos = len(numero)\n",
    "print(numero_digitos)"
   ]
  },
  {
   "cell_type": "markdown",
   "metadata": {},
   "source": [
    "<p>Escreva um programa que recebe o nome completo e retorna ele em minúsculo</p>"
   ]
  },
  {
   "cell_type": "code",
   "execution_count": 4,
   "metadata": {},
   "outputs": [
    {
     "name": "stdout",
     "output_type": "stream",
     "text": [
      "Digite o nome completo: John Lennon\n",
      "john lennon\n"
     ]
    }
   ],
   "source": [
    "nome_completo = input('Digite o nome completo: ')\n",
    "nome_completo_minusculo = nome_completo.lower()\n",
    "print(nome_completo_minusculo)"
   ]
  },
  {
   "cell_type": "markdown",
   "metadata": {},
   "source": [
    "<p>Escreva um programa que recebe uma quantia e um o número do dia, e preencha a frase abaixo, usando a função format:\n",
    "    <p>\"Por força deste instrumento, o COMPRADOR pagará ao VENDEDOR a quantia de R$ ({}), à vista, no dia ({}).\"</p>\n",
    "</p>"
   ]
  },
  {
   "cell_type": "code",
   "execution_count": 2,
   "metadata": {},
   "outputs": [
    {
     "name": "stdout",
     "output_type": "stream",
     "text": [
      "Digite a quantia: 2\n",
      "Digite o dia: 5\n",
      "Por força deste instrumento, o COMPRADOR pagará ao VENDEDOR a quantia de R$ (2), à vista, no dia (5).\n"
     ]
    }
   ],
   "source": [
    "frase = \"Por força deste instrumento, o COMPRADOR pagará ao VENDEDOR a quantia de R$ ({}), à vista, no dia ({}).\"\n",
    "\n",
    "quantia = input('Digite a quantia: ')\n",
    "dia = input('Digite o dia: ')\n",
    "\n",
    "print(frase.format(quantia, dia))"
   ]
  },
  {
   "cell_type": "code",
   "execution_count": null,
   "metadata": {},
   "outputs": [],
   "source": []
  }
 ],
 "metadata": {
  "kernelspec": {
   "display_name": "Python 3",
   "language": "python",
   "name": "python3"
  },
  "language_info": {
   "codemirror_mode": {
    "name": "ipython",
    "version": 3
   },
   "file_extension": ".py",
   "mimetype": "text/x-python",
   "name": "python",
   "nbconvert_exporter": "python",
   "pygments_lexer": "ipython3",
   "version": "3.6.1"
  }
 },
 "nbformat": 4,
 "nbformat_minor": 2
}
