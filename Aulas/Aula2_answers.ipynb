{
 "cells": [
  {
   "cell_type": "markdown",
   "metadata": {},
   "source": [
    "<h3>Respostas dos exercícios</h3>"
   ]
  },
  {
   "cell_type": "markdown",
   "metadata": {},
   "source": [
    "<h2>Strings</h2>"
   ]
  },
  {
   "cell_type": "markdown",
   "metadata": {},
   "source": [
    "<p>Escreva um programa que retorna o número de dígitos de um inteiro.</p>"
   ]
  },
  {
   "cell_type": "code",
   "execution_count": 2,
   "metadata": {},
   "outputs": [
    {
     "name": "stdout",
     "output_type": "stream",
     "text": [
      "Digite número: 1234567890\n",
      "10\n"
     ]
    }
   ],
   "source": [
    "numero = input('Digite número: ')\n",
    "numero_digitos = len(numero)\n",
    "print(numero_digitos)"
   ]
  },
  {
   "cell_type": "markdown",
   "metadata": {},
   "source": [
    "<p>Escreva um programa que recebe o nome completo e retorna ele em minúsculo</p>"
   ]
  },
  {
   "cell_type": "code",
   "execution_count": 4,
   "metadata": {},
   "outputs": [
    {
     "name": "stdout",
     "output_type": "stream",
     "text": [
      "Digite o nome completo: John Lennon\n",
      "john lennon\n"
     ]
    }
   ],
   "source": [
    "nome_completo = input('Digite o nome completo: ')\n",
    "nome_completo_minusculo = nome_completo.lower()\n",
    "print(nome_completo_minusculo)"
   ]
  },
  {
   "cell_type": "markdown",
   "metadata": {},
   "source": [
    "<p>Escreva um programa que recebe uma quantia e um o número do dia, e preencha a frase abaixo, usando a função format:\n",
    "    <p>\"Por força deste instrumento, o COMPRADOR pagará ao VENDEDOR a quantia de R$ ({}) (Valor expresso), à vista, no dia ({}).\"</p>\n",
    "</p>"
   ]
  },
  {
   "cell_type": "code",
   "execution_count": 11,
   "metadata": {},
   "outputs": [
    {
     "name": "stdout",
     "output_type": "stream",
     "text": [
      "Digite a quantia: 3\n",
      "Digite o dia: 19\n",
      "Por força deste instrumento, o COMPRADOR pagará ao VENDEDOR a quantia de R$ (3) (Valor expresso), à vista, no dia (19).\n"
     ]
    }
   ],
   "source": [
    "frase = \"Por força deste instrumento, o COMPRADOR pagará ao VENDEDOR a quantia de R$ ({}) (Valor expresso), à vista, no dia ({}).\"\n",
    "\n",
    "quantia = input('Digite a quantia: ')\n",
    "dia = input('Digite o dia: ')\n",
    "\n",
    "print(frase.format(quantia, dia))"
   ]
  },
  {
   "cell_type": "markdown",
   "metadata": {},
   "source": [
    "<h2>Condicionais</h2>"
   ]
  },
  {
   "cell_type": "markdown",
   "metadata": {},
   "source": [
    "<p>Faça um programa que peça dois números e imprima o maior deles.</p>"
   ]
  },
  {
   "cell_type": "code",
   "execution_count": 5,
   "metadata": {},
   "outputs": [
    {
     "name": "stdout",
     "output_type": "stream",
     "text": [
      "Digite número 1: 2\n",
      "Digite número 1: 4\n",
      "O maior número é  4\n"
     ]
    }
   ],
   "source": [
    "numero1 = input('Digite número 1: ')\n",
    "numero2 = input('Digite número 1: ')\n",
    "\n",
    "if numero1 > numero2:\n",
    "    print('O maior número é ', numero1)\n",
    "else:\n",
    "    print('O maior número é ', numero2)"
   ]
  },
  {
   "cell_type": "markdown",
   "metadata": {},
   "source": [
    "<p>Faça um programa que peça um valor e mostre na tela se o valor é positivo ou negativo.</p>"
   ]
  },
  {
   "cell_type": "code",
   "execution_count": 7,
   "metadata": {},
   "outputs": [
    {
     "name": "stdout",
     "output_type": "stream",
     "text": [
      "Digite número: -4\n",
      "negativo\n"
     ]
    }
   ],
   "source": [
    "numero = int(input('Digite número: '))\n",
    "if numero > 0:\n",
    "    print('positivo')\n",
    "else:\n",
    "    print('negativo')"
   ]
  },
  {
   "cell_type": "markdown",
   "metadata": {},
   "source": [
    "<p>Faça um programa que verifique se uma letra digitada é \"F\" ou \"M\". Conforme a letra escrever: F - Feminino, M - Masculino, Sexo Inválido.</p>"
   ]
  },
  {
   "cell_type": "code",
   "execution_count": null,
   "metadata": {},
   "outputs": [],
   "source": [
    "sexo = input('Digite sexo: ')\n",
    "\n",
    "if sexo == 'F':\n",
    "    print('Feminino')\n",
    "elif sexo == 'M':\n",
    "    print('Masculino')\n",
    "else:\n",
    "    print('sexo inválido')"
   ]
  },
  {
   "cell_type": "markdown",
   "metadata": {},
   "source": [
    "<p>Faça um programa que verifique se uma letra digitada é vogal ou consoante.</p>"
   ]
  },
  {
   "cell_type": "code",
   "execution_count": 8,
   "metadata": {},
   "outputs": [
    {
     "name": "stdout",
     "output_type": "stream",
     "text": [
      "Digite letra: w\n",
      "consoante\n"
     ]
    }
   ],
   "source": [
    "letra = input('Digite letra: ')\n",
    "\n",
    "if letra == 'a' or letra == 'e' or letra == 'i' or letra == 'o' or letra == 'u':\n",
    "    print('vogal')\n",
    "else:\n",
    "    print('consoante')"
   ]
  },
  {
   "cell_type": "markdown",
   "metadata": {},
   "source": [
    "<p>Faça um programa que receba uma idade e responda se a pessoa é \"absolutamente incapaz\", \"relativamente incapaz\" e \"plenamente capaz\". O programa deve apresentar:\n",
    "    <ul>\n",
    "        <li>A mensagem \"absolutamente incapaz\", se a idade for menor que 16;</li>\n",
    "        <li>A mensagem \"relativamente incapaz\", se a idade for maior que 16 e menor que 18;</li>\n",
    "        <li>A mensagem \"plenamente capaz\", se a idade for maior ou igual a 18.</li>\n",
    "    </ul>\n",
    "</p>"
   ]
  },
  {
   "cell_type": "code",
   "execution_count": null,
   "metadata": {},
   "outputs": [],
   "source": [
    "idade = input('Digite idade: ')\n",
    "\n",
    "if idade < 16:\n",
    "    print('absolutamente incapaz')\n",
    "elif idade >= 16 and idade < 18:\n",
    "    print('relativamente incapaz')\n",
    "else:\n",
    "    print('plenamente capaz')"
   ]
  },
  {
   "cell_type": "markdown",
   "metadata": {},
   "source": [
    "<p>Faça um programa que receba uma idade e o estado civil e responda se a pessoa é \"absolutamente incapaz\", \"relativamente incapaz\" e \"plenamente capaz\". O programa deve apresentar:\n",
    "    <ul>\n",
    "        <li>A mensagem \"plenamente capaz\", se o estado civil for \"casado\";</li>\n",
    "        <li>A mensagem \"absolutamente incapaz\", se a idade for menor que 16;</li>\n",
    "        <li>A mensagem \"relativamente incapaz\", se a idade for maior que 16 e menor que 18;</li>\n",
    "        <li>A mensagem \"plenamente capaz\", se a idade for maior ou igual a 18.</li>\n",
    "    </ul>\n",
    "</p>"
   ]
  },
  {
   "cell_type": "code",
   "execution_count": null,
   "metadata": {},
   "outputs": [],
   "source": [
    "idade = input('Digite idade: ')\n",
    "estado_civil = input('Digite estado civil: ')\n",
    "\n",
    "if estado_civil == 'casado':\n",
    "    print('plenamente capaz')\n",
    "elif idade < 16:\n",
    "    print('absolutamente incapaz')\n",
    "elif idade >= 16 and idade < 18:\n",
    "    print('relativamente incapaz')\n",
    "else:\n",
    "    print('plenamente capaz')"
   ]
  },
  {
   "cell_type": "markdown",
   "metadata": {},
   "source": [
    "<h2>Listas</h2>"
   ]
  },
  {
   "cell_type": "markdown",
   "metadata": {},
   "source": [
    "<p>Atribua a uma variável em seu programa um string entre aspas triplas contendo esse documento:</p>\n",
    "        IDENTIFICAÇÃO DAS PARTES CONTRATANTES\n",
    "\n",
    "        VENDEDOR: (Nome do Vendedor), (Nacionalidade), (Estado Civil), C.P.F. nº (xxx);\n",
    "       \n",
    "        COMPRADOR: (Nome do Comprador), (Nacionalidade), (Estado Civil), C.P.F. nº (xxx).\n",
    "       \n",
    "        As partes acima identificadas têm, entre si, justo e acertado o presente Contrato de Compra e Venda de Bem Imóvel à Vista entre Pessoas Físicas, que se regerá pelas cláusulas seguintes e pelas condições descritas no presente.\n",
    "<p>Escreva um programa recebe o nome do vendedor, nacionalidade, estado civil e cpf; assim como todas essas informações do comprador. Seu programa deve imprimir o documento referente à identificação das partes contrantes.</p>\n",
    "    <li>\n",
    "        <p>Escreva um programa que conta o número de palavras que contém a letra ‘e’ em um string. Seu programa deve imprimir uma análise desse texto da seguinte forma:</p>\n",
    "        <p>Seu texto contém 243 palavras, das quais 109 (44.8%) contém um 'e'.</p>\n",
    "    </li>"
   ]
  },
  {
   "cell_type": "code",
   "execution_count": 10,
   "metadata": {},
   "outputs": [
    {
     "name": "stdout",
     "output_type": "stream",
     "text": [
      "Digite nome do vendedor: v1\n",
      "Digite nacionalidade do vendedor: brasileiro\n",
      "Digite estado civil do vendedor: casado\n",
      "Digite CPF do vendedor: 123\n",
      "Digite nome do comprador: c1\n",
      "Digite nacionalidade do comprador: japones\n",
      "Digite estado civil do comprador: solteiro\n",
      "Digite CPF do comprador: 1234\n",
      "\n",
      "IDENTIFICAÇÃO DAS PARTES CONTRATANTES\n",
      "    VENDEDOR: (v1), (brasileiro), (casado), C.P.F. nº (123);\n",
      "\n",
      "    COMPRADOR: (c1), (japones), (solteiro), C.P.F. nº (1234).\n",
      "\n",
      "    As partes acima identificadas têm, entre si, justo e acertado o presente Contrato de Compra e Venda de Bem Imóvel à Vista entre Pessoas Físicas, que se regerá pelas cláusulas seguintes e pelas condições descritas no presente.\n",
      "\n"
     ]
    }
   ],
   "source": [
    "documento = '''\n",
    "IDENTIFICAÇÃO DAS PARTES CONTRATANTES\n",
    "    VENDEDOR: ({}), ({}), ({}), C.P.F. nº ({});\n",
    "\n",
    "    COMPRADOR: ({}), ({}), ({}), C.P.F. nº ({}).\n",
    "\n",
    "    As partes acima identificadas têm, entre si, justo e acertado o presente Contrato de Compra e Venda de Bem Imóvel à Vista entre Pessoas Físicas, que se regerá pelas cláusulas seguintes e pelas condições descritas no presente.\n",
    "'''\n",
    "nome_vendedor = input('Digite nome do vendedor: ')\n",
    "nacionalidade_vendedor = input('Digite nacionalidade do vendedor: ')\n",
    "estado_civil_vendedor = input('Digite estado civil do vendedor: ')\n",
    "cpf_vendedor = input('Digite CPF do vendedor: ')\n",
    "\n",
    "nome_comprador = input('Digite nome do comprador: ')\n",
    "nacionalidade_comprador = input('Digite nacionalidade do comprador: ')\n",
    "estado_civil_comprador = input('Digite estado civil do comprador: ')\n",
    "cpf_comprador = input('Digite CPF do comprador: ')\n",
    "\n",
    "print(documento.format(nome_vendedor, nacionalidade_vendedor, estado_civil_vendedor, cpf_vendedor, nome_comprador, nacionalidade_comprador, estado_civil_comprador, cpf_comprador))"
   ]
  }
 ],
 "metadata": {
  "kernelspec": {
   "display_name": "Python 3",
   "language": "python",
   "name": "python3"
  },
  "language_info": {
   "codemirror_mode": {
    "name": "ipython",
    "version": 3
   },
   "file_extension": ".py",
   "mimetype": "text/x-python",
   "name": "python",
   "nbconvert_exporter": "python",
   "pygments_lexer": "ipython3",
   "version": "3.7.4"
  }
 },
 "nbformat": 4,
 "nbformat_minor": 2
}
