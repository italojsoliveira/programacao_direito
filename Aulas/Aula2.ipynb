{
 "cells": [
  {
   "cell_type": "markdown",
   "metadata": {},
   "source": [
    "<h2>Strings</h2>"
   ]
  },
  {
   "cell_type": "code",
   "execution_count": 2,
   "metadata": {},
   "outputs": [
    {
     "data": {
      "text/plain": [
       "'Direito'"
      ]
     },
     "execution_count": 2,
     "metadata": {},
     "output_type": "execute_result"
    }
   ],
   "source": [
    "# Uma palavra\n",
    "'Direito'"
   ]
  },
  {
   "cell_type": "code",
   "execution_count": 3,
   "metadata": {},
   "outputs": [
    {
     "data": {
      "text/plain": [
       "'Olá mundo!'"
      ]
     },
     "execution_count": 3,
     "metadata": {},
     "output_type": "execute_result"
    }
   ],
   "source": [
    "# Uma frase\n",
    "'Olá mundo!'"
   ]
  },
  {
   "cell_type": "code",
   "execution_count": 5,
   "metadata": {},
   "outputs": [
    {
     "data": {
      "text/plain": [
       "'Meu nome é: John Lennon'"
      ]
     },
     "execution_count": 5,
     "metadata": {},
     "output_type": "execute_result"
    }
   ],
   "source": [
    "# Concatenando strings\n",
    "'Meu nome é: ' + 'John Lennon'"
   ]
  },
  {
   "cell_type": "code",
   "execution_count": 6,
   "metadata": {},
   "outputs": [
    {
     "name": "stdout",
     "output_type": "stream",
     "text": [
      "Lorem ipsum dolor sit amet,\n",
      "consectetur adipiscing elit,\n",
      "sed do eiusmod tempor incididunt\n",
      "ut labore et dolore magna aliqua.\n"
     ]
    }
   ],
   "source": [
    "# Criando um parágrafo\n",
    "a = \"\"\"Lorem ipsum dolor sit amet,\n",
    "consectetur adipiscing elit,\n",
    "sed do eiusmod tempor incididunt\n",
    "ut labore et dolore magna aliqua.\"\"\"\n",
    "print(a)"
   ]
  },
  {
   "cell_type": "code",
   "execution_count": 7,
   "metadata": {},
   "outputs": [
    {
     "data": {
      "text/plain": [
       "True"
      ]
     },
     "execution_count": 7,
     "metadata": {},
     "output_type": "execute_result"
    }
   ],
   "source": [
    "# Comparando a igualdade de strings\n",
    "'John' == \"John\""
   ]
  },
  {
   "cell_type": "code",
   "execution_count": 25,
   "metadata": {},
   "outputs": [
    {
     "data": {
      "text/plain": [
       "False"
      ]
     },
     "execution_count": 25,
     "metadata": {},
     "output_type": "execute_result"
    }
   ],
   "source": [
    "# Comparando a desigualdade de string\n",
    "'Paul' != 'Paul'"
   ]
  },
  {
   "cell_type": "code",
   "execution_count": 11,
   "metadata": {},
   "outputs": [
    {
     "data": {
      "text/plain": [
       "10"
      ]
     },
     "execution_count": 11,
     "metadata": {},
     "output_type": "execute_result"
    }
   ],
   "source": [
    "# Contar o número de símbolos de um string\n",
    "nome = 'João Silva'\n",
    "len(nome)"
   ]
  },
  {
   "cell_type": "code",
   "execution_count": 13,
   "metadata": {},
   "outputs": [
    {
     "data": {
      "text/plain": [
       "2"
      ]
     },
     "execution_count": 13,
     "metadata": {},
     "output_type": "execute_result"
    }
   ],
   "source": [
    "# Contar o número de um determinado símbolo\n",
    "# Quantos 'r's possuem a frase 'Maria Oliveira'?\n",
    "nome = 'Maria Oliveira'\n",
    "nome.count('r')"
   ]
  },
  {
   "cell_type": "code",
   "execution_count": 15,
   "metadata": {},
   "outputs": [
    {
     "data": {
      "text/plain": [
       "'MARIA OLIVEIRA'"
      ]
     },
     "execution_count": 15,
     "metadata": {},
     "output_type": "execute_result"
    }
   ],
   "source": [
    "# Tornar todas as letras em maiúsculo\n",
    "nome = 'Maria Oliveira'\n",
    "nome.upper()"
   ]
  },
  {
   "cell_type": "code",
   "execution_count": 17,
   "metadata": {},
   "outputs": [
    {
     "data": {
      "text/plain": [
       "'maria oliveira'"
      ]
     },
     "execution_count": 17,
     "metadata": {},
     "output_type": "execute_result"
    }
   ],
   "source": [
    "# Tornar todas as letras em minúsculo\n",
    "nome = 'Maria Oliveira'\n",
    "nome.lower()"
   ]
  },
  {
   "cell_type": "code",
   "execution_count": 21,
   "metadata": {},
   "outputs": [
    {
     "data": {
      "text/plain": [
       "'Maria Oliveira'"
      ]
     },
     "execution_count": 21,
     "metadata": {},
     "output_type": "execute_result"
    }
   ],
   "source": [
    "# Tornar a primeira letra maiúscula de todas as palavras de um string\n",
    "nome = 'maria oliveira'\n",
    "nome.title()"
   ]
  },
  {
   "cell_type": "code",
   "execution_count": 23,
   "metadata": {},
   "outputs": [
    {
     "data": {
      "text/plain": [
       "'www'"
      ]
     },
     "execution_count": 23,
     "metadata": {},
     "output_type": "execute_result"
    }
   ],
   "source": [
    "# Podemos usar o símbolo de multiplicação para criar repetição!\n",
    "letra = 'w'\n",
    "letra*3"
   ]
  },
  {
   "cell_type": "code",
   "execution_count": 22,
   "metadata": {},
   "outputs": [
    {
     "data": {
      "text/plain": [
       "'Meu nome é: John Lennon'"
      ]
     },
     "execution_count": 22,
     "metadata": {},
     "output_type": "execute_result"
    }
   ],
   "source": [
    "# Substituir strings em outras strings\n",
    "nome = 'John Lennon'\n",
    "'Meu nome é: {}'.format(nome)"
   ]
  },
  {
   "cell_type": "markdown",
   "metadata": {},
   "source": [
    "<h3>Exercícios</h3>"
   ]
  },
  {
   "cell_type": "markdown",
   "metadata": {},
   "source": [
    "<ol>\n",
    "    <li>Escreva um programa que retorna o número de dígitos de um inteiro.</li>\n",
    "    <li>Escreva um programa que recebe o nome completo e retorna ele em minúsculo</li>\n",
    "<ol>"
   ]
  },
  {
   "cell_type": "markdown",
   "metadata": {},
   "source": [
    "<h2>Condicionais</h2>"
   ]
  },
  {
   "cell_type": "code",
   "execution_count": 27,
   "metadata": {},
   "outputs": [
    {
     "name": "stdout",
     "output_type": "stream",
     "text": [
      "É maior de idade!\n"
     ]
    }
   ],
   "source": [
    "# Realizar uma verificação\n",
    "idade = 21\n",
    "if idade >= 18:\n",
    "    print(\"É maior de idade!\")"
   ]
  },
  {
   "cell_type": "code",
   "execution_count": 28,
   "metadata": {},
   "outputs": [
    {
     "name": "stdout",
     "output_type": "stream",
     "text": [
      "Não é maior de idade!\n"
     ]
    }
   ],
   "source": [
    "# If... Else\n",
    "idade = 5\n",
    "if idade >= 18:\n",
    "    print(\"É maior de idade!\")\n",
    "else:\n",
    "    print(\"Não é maior de idade!\")"
   ]
  },
  {
   "cell_type": "code",
   "execution_count": 30,
   "metadata": {},
   "outputs": [
    {
     "name": "stdout",
     "output_type": "stream",
     "text": [
      "Não pode votar e não é maior de idade!\n"
     ]
    }
   ],
   "source": [
    "# If..Elif..Else\n",
    "idade = 5\n",
    "if idade >= 16 and idade < 18:\n",
    "    print(\"Pode votar e não é maior de idade!\")\n",
    "elif idade < 16:\n",
    "    print(\"Não pode votar e não é maior de idade!\")\n",
    "else:\n",
    "    print(\"Pode votar e é maior de idade!\")"
   ]
  },
  {
   "cell_type": "code",
   "execution_count": 33,
   "metadata": {},
   "outputs": [
    {
     "name": "stdout",
     "output_type": "stream",
     "text": [
      "Digite a idade: 18\n",
      "É maior de idade!\n"
     ]
    }
   ],
   "source": [
    "# Exemplo 1\n",
    "idade = int(input('Digite a idade: '))\n",
    "if idade >= 18:\n",
    "    print(\"É maior de idade!\")\n",
    "else:\n",
    "    print(\"Não é maior de idade!\")"
   ]
  },
  {
   "cell_type": "code",
   "execution_count": 34,
   "metadata": {},
   "outputs": [
    {
     "name": "stdout",
     "output_type": "stream",
     "text": [
      "Digite a idade: 7\n",
      "Não pode votar e não é maior de idade!\n"
     ]
    }
   ],
   "source": [
    "# Exemplo 2\n",
    "idade = int(input('Digite a idade: '))\n",
    "if idade >= 16 and idade < 18:\n",
    "    print(\"Pode votar e não é maior de idade!\")\n",
    "elif idade < 16:\n",
    "    print(\"Não pode votar e não é maior de idade!\")\n",
    "else:\n",
    "    print(\"Pode votar e é maior de idade!\")"
   ]
  },
  {
   "cell_type": "code",
   "execution_count": 35,
   "metadata": {},
   "outputs": [
    {
     "ename": "SyntaxError",
     "evalue": "invalid syntax (<ipython-input-35-20e8653bc258>, line 2)",
     "output_type": "error",
     "traceback": [
      "\u001b[0;36m  File \u001b[0;32m\"<ipython-input-35-20e8653bc258>\"\u001b[0;36m, line \u001b[0;32m2\u001b[0m\n\u001b[0;31m    if 4 > 3\u001b[0m\n\u001b[0m            ^\u001b[0m\n\u001b[0;31mSyntaxError\u001b[0m\u001b[0;31m:\u001b[0m invalid syntax\n"
     ]
    }
   ],
   "source": [
    "# Atenção com a sintaxe\n",
    "if 4 > 3\n",
    "  print(\"Tudo funciona!\")"
   ]
  },
  {
   "cell_type": "code",
   "execution_count": 36,
   "metadata": {},
   "outputs": [
    {
     "ename": "IndentationError",
     "evalue": "expected an indented block (<ipython-input-36-f919ae27c9f2>, line 3)",
     "output_type": "error",
     "traceback": [
      "\u001b[0;36m  File \u001b[0;32m\"<ipython-input-36-f919ae27c9f2>\"\u001b[0;36m, line \u001b[0;32m3\u001b[0m\n\u001b[0;31m    print(\"Tudo funciona!\")\u001b[0m\n\u001b[0m        ^\u001b[0m\n\u001b[0;31mIndentationError\u001b[0m\u001b[0;31m:\u001b[0m expected an indented block\n"
     ]
    }
   ],
   "source": [
    "# Atenção com a sintaxe\n",
    "if 4 > 3:\n",
    "print(\"Tudo funciona!\")"
   ]
  },
  {
   "cell_type": "markdown",
   "metadata": {},
   "source": [
    "<h3>Exercícios</h3>"
   ]
  },
  {
   "cell_type": "markdown",
   "metadata": {},
   "source": [
    "<ol>\n",
    "    <li>Faça um programa que peça dois números e imprima o maior deles.</li>\n",
    "    <li>Faça um programa que peça um valor e mostre na tela se o valor é positivo ou negativo.</li>\n",
    "    <li>Faça um programa que verifique se uma letra digitada é \"F\" ou \"M\". Conforme a letra escrever: F - Feminino, M - Masculino, Sexo Inválido.</li>\n",
    "    <li>Faça um programa que verifique se uma letra digitada é vogal ou consoante.</li>\n",
    "    <li>Faça um programa que receba uma idade e responda se a pessoa é \"absolutamente incapaz\", \"relativamente incapaz\" e \"plenamente capaz\". O programa deve apresentar:\n",
    "        <ul>\n",
    "            <li>A mensagem \"absolutamente incapaz\", se a idade for menor que 16;</li>\n",
    "            <li>A mensagem \"relativamente incapaz\", se a idade for maior que 16 e menor que 18;</li>\n",
    "            <li>A mensagem \"plenamente capaz\", se a idade for maior ou igual a 18.</li>\n",
    "        </ul>\n",
    "    </li>\n",
    "    <li>Faça um programa que receba uma idade e o estado civil e responda se a pessoa é \"absolutamente incapaz\", \"relativamente incapaz\" e \"plenamente capaz\". O programa deve apresentar:\n",
    "        <ul>\n",
    "            <li>A mensagem \"plenamente capaz\", se o estado civil for \"casado\";</li>\n",
    "            <li>A mensagem \"absolutamente incapaz\", se a idade for menor que 16;</li>\n",
    "            <li>A mensagem \"relativamente incapaz\", se a idade for maior que 16 e menor que 18;</li>\n",
    "            <li>A mensagem \"plenamente capaz\", se a idade for maior ou igual a 18.</li>\n",
    "        </ul>\n",
    "    </li>\n",
    "</ol>"
   ]
  },
  {
   "cell_type": "markdown",
   "metadata": {},
   "source": [
    "<h2>Listas</h2>"
   ]
  },
  {
   "cell_type": "code",
   "execution_count": 46,
   "metadata": {},
   "outputs": [
    {
     "name": "stdout",
     "output_type": "stream",
     "text": [
      "['ovos', 'farinha', 'leite', 'maças']\n",
      "ovos\n",
      "farinha\n",
      "leite\n"
     ]
    }
   ],
   "source": [
    "# Criando uma lista\n",
    "lista_do_mercado = [\"ovos\", \"farinha\", \"leite\", \"maças\"]\n",
    "\n",
    "# Atribuindo cada valor da lista a uma variável.\n",
    "item1 = lista_do_mercado[0]\n",
    "item2 = lista_do_mercado[1]\n",
    "item3 = lista_do_mercado[2]\n",
    "\n",
    "print(lista_do_mercado)\n",
    "print(item1)\n",
    "print(item2)\n",
    "print(item3)"
   ]
  },
  {
   "cell_type": "code",
   "execution_count": 57,
   "metadata": {},
   "outputs": [
    {
     "name": "stdout",
     "output_type": "stream",
     "text": [
      "True\n"
     ]
    }
   ],
   "source": [
    "# Criando uma lista\n",
    "lista_do_mercado = [\"ovos\", \"farinha\", \"leite\", \"maçãs\"]\n",
    "\n",
    "# Verificando se tem ovos na lista do mercado\n",
    "print(\"ovos\" in lista_do_mercado)"
   ]
  },
  {
   "cell_type": "code",
   "execution_count": 55,
   "metadata": {},
   "outputs": [
    {
     "name": "stdout",
     "output_type": "stream",
     "text": [
      "False\n"
     ]
    }
   ],
   "source": [
    "# Criando uma lista\n",
    "lista_do_mercado = [\"ovos\", \"farinha\", \"leite\", \"maçãs\"]\n",
    "\n",
    "# Verificando se tem banana na lista do mercado\n",
    "print(\"banana\" in lista_do_mercado)"
   ]
  },
  {
   "cell_type": "code",
   "execution_count": 56,
   "metadata": {},
   "outputs": [
    {
     "name": "stdout",
     "output_type": "stream",
     "text": [
      "['ovos', 'farinha', 'leite', 'maçãs', 'carne']\n"
     ]
    }
   ],
   "source": [
    "# Criando uma lista\n",
    "lista_do_mercado = [\"ovos\", \"farinha\", \"leite\", \"maçãs\"]\n",
    "\n",
    "# Adicionando um item à lista\n",
    "lista_do_mercado.append(\"carne\")\n",
    "\n",
    "# Imprimir lista\n",
    "print(lista_do_mercado)"
   ]
  },
  {
   "cell_type": "code",
   "execution_count": 51,
   "metadata": {},
   "outputs": [
    {
     "data": {
      "text/plain": [
       "['Maria', 'Oliveira']"
      ]
     },
     "execution_count": 51,
     "metadata": {},
     "output_type": "execute_result"
    }
   ],
   "source": [
    "# Separar as palavras em um string por espaço\n",
    "nome = 'Maria Oliveira'\n",
    "nome.split()"
   ]
  },
  {
   "cell_type": "code",
   "execution_count": 50,
   "metadata": {},
   "outputs": [
    {
     "data": {
      "text/plain": [
       "['M', 'ri', ' Oliveir', '']"
      ]
     },
     "execution_count": 50,
     "metadata": {},
     "output_type": "execute_result"
    }
   ],
   "source": [
    "# Separar as palavras em um string pela letra 'a'\n",
    "nome = 'Maria Oliveira'\n",
    "nome.split('a')"
   ]
  },
  {
   "cell_type": "markdown",
   "metadata": {},
   "source": [
    "<h3>Exercícios</h3>"
   ]
  },
  {
   "cell_type": "markdown",
   "metadata": {},
   "source": [
    "<ol>\n",
    "    <li>\n",
    "        <p>Atribua a uma variável em seu programa um string entre aspas triplas contendo esse documento:</p>\n",
    "        IDENTIFICAÇÃO DAS PARTES CONTRATANTES\n",
    "\n",
    "        VENDEDOR: (Nome do Vendedor), (Nacionalidade), (Estado Civil), C.P.F. nº (xxx);\n",
    "       \n",
    "        COMPRADOR: (Nome do Comprador), (Nacionalidade), (Estado Civil), C.P.F. nº (xxx).\n",
    "       \n",
    "        As partes acima identificadas têm, entre si, justo e acertado o presente Contrato de Compra e Venda de Bem Imóvel à Vista entre Pessoas Físicas, que se regerá pelas cláusulas seguintes e pelas condições descritas no presente.\n",
    "<p>Escreva um programa recebe o nome do vendedor, nacionalidade, estado civil e cpf; assim como todas essas informações do comprador. Seu programa deve imprimir o documento referente à identificação das partes contrantes.</p>\n",
    "    </li>\n",
    "    <li>\n",
    "        <p>Escreva um programa que conta o número de palavras que contém a letra ‘e’ em um string. Seu programa deve imprimir uma análise desse texto da seguinte forma:</p>\n",
    "        <p>Seu texto contém 243 palavras, das quais 109 (44.8%) contém um 'e'.</p>\n",
    "    </li>\n",
    "</ol>"
   ]
  },
  {
   "cell_type": "code",
   "execution_count": null,
   "metadata": {},
   "outputs": [],
   "source": []
  }
 ],
 "metadata": {
  "kernelspec": {
   "display_name": "Python 3",
   "language": "python",
   "name": "python3"
  },
  "language_info": {
   "codemirror_mode": {
    "name": "ipython",
    "version": 3
   },
   "file_extension": ".py",
   "mimetype": "text/x-python",
   "name": "python",
   "nbconvert_exporter": "python",
   "pygments_lexer": "ipython3",
   "version": "3.7.4"
  }
 },
 "nbformat": 4,
 "nbformat_minor": 2
}
