{
 "cells": [
  {
   "cell_type": "markdown",
   "metadata": {},
   "source": [
    "<h2>Strings</h2>"
   ]
  },
  {
   "cell_type": "code",
   "execution_count": 1,
   "metadata": {},
   "outputs": [
    {
     "name": "stdout",
     "output_type": "stream",
     "text": [
      "This is just a simple string.\n",
      "<class 'str'>\n"
     ]
    }
   ],
   "source": [
    "test = 'This is just a simple string.'\n",
    "print(test)\n",
    "print(type(test))"
   ]
  },
  {
   "cell_type": "code",
   "execution_count": 2,
   "metadata": {},
   "outputs": [
    {
     "name": "stdout",
     "output_type": "stream",
     "text": [
      "Lorem ipsum dolor sit amet,\n",
      "consectetur adipiscing elit,\n",
      "sed do eiusmod tempor incididunt\n",
      "ut labore et dolore magna aliqua.\n"
     ]
    }
   ],
   "source": [
    "a = \"\"\"Lorem ipsum dolor sit amet,\n",
    "consectetur adipiscing elit,\n",
    "sed do eiusmod tempor incididunt\n",
    "ut labore et dolore magna aliqua.\"\"\"\n",
    "print(a)"
   ]
  },
  {
   "cell_type": "code",
   "execution_count": 3,
   "metadata": {},
   "outputs": [
    {
     "name": "stdout",
     "output_type": "stream",
     "text": [
      "True\n"
     ]
    }
   ],
   "source": [
    "print('string' == \"string\")"
   ]
  },
  {
   "cell_type": "code",
   "execution_count": 4,
   "metadata": {},
   "outputs": [
    {
     "data": {
      "text/plain": [
       "14"
      ]
     },
     "execution_count": 4,
     "metadata": {},
     "output_type": "execute_result"
    }
   ],
   "source": [
    "nome = 'Maria Oliveira'\n",
    "len(nome)"
   ]
  },
  {
   "cell_type": "code",
   "execution_count": 5,
   "metadata": {},
   "outputs": [
    {
     "data": {
      "text/plain": [
       "2"
      ]
     },
     "execution_count": 5,
     "metadata": {},
     "output_type": "execute_result"
    }
   ],
   "source": [
    "nome = 'Maria Oliveira'\n",
    "nome.count('r')"
   ]
  },
  {
   "cell_type": "code",
   "execution_count": 6,
   "metadata": {},
   "outputs": [
    {
     "data": {
      "text/plain": [
       "2"
      ]
     },
     "execution_count": 6,
     "metadata": {},
     "output_type": "execute_result"
    }
   ],
   "source": [
    "nome = 'Maria Oliveira'\n",
    "nome.find('r')"
   ]
  },
  {
   "cell_type": "code",
   "execution_count": 7,
   "metadata": {},
   "outputs": [
    {
     "data": {
      "text/plain": [
       "['Maria', 'Oliveira']"
      ]
     },
     "execution_count": 7,
     "metadata": {},
     "output_type": "execute_result"
    }
   ],
   "source": [
    "nome = 'Maria Oliveira'\n",
    "nome.split()"
   ]
  },
  {
   "cell_type": "code",
   "execution_count": 8,
   "metadata": {},
   "outputs": [
    {
     "data": {
      "text/plain": [
       "['M', 'ri', ' Oliveir', '']"
      ]
     },
     "execution_count": 8,
     "metadata": {},
     "output_type": "execute_result"
    }
   ],
   "source": [
    "nome = 'Maria Oliveira'\n",
    "nome.split('a')"
   ]
  },
  {
   "cell_type": "code",
   "execution_count": 9,
   "metadata": {},
   "outputs": [
    {
     "name": "stdout",
     "output_type": "stream",
     "text": [
      "MariaOliveira\n"
     ]
    }
   ],
   "source": [
    "nome = 'Maria Oliveira'\n",
    "nome_completo = ''.join(nome.split())\n",
    "print(nome_completo)"
   ]
  },
  {
   "cell_type": "code",
   "execution_count": 10,
   "metadata": {},
   "outputs": [
    {
     "data": {
      "text/plain": [
       "'MARIA OLIVEIRA'"
      ]
     },
     "execution_count": 10,
     "metadata": {},
     "output_type": "execute_result"
    }
   ],
   "source": [
    "nome = 'Maria Oliveira'\n",
    "nome.upper()"
   ]
  },
  {
   "cell_type": "code",
   "execution_count": 11,
   "metadata": {},
   "outputs": [
    {
     "data": {
      "text/plain": [
       "'this is just a simple string.'"
      ]
     },
     "execution_count": 11,
     "metadata": {},
     "output_type": "execute_result"
    }
   ],
   "source": [
    "nome = 'Maria Oliveira'\n",
    "test.lower()"
   ]
  },
  {
   "cell_type": "code",
   "execution_count": 12,
   "metadata": {},
   "outputs": [
    {
     "data": {
      "text/plain": [
       "'Maria oliveira'"
      ]
     },
     "execution_count": 12,
     "metadata": {},
     "output_type": "execute_result"
    }
   ],
   "source": [
    "nome = 'Maria Oliveira'\n",
    "nome.lower().capitalize()"
   ]
  },
  {
   "cell_type": "code",
   "execution_count": 13,
   "metadata": {},
   "outputs": [
    {
     "data": {
      "text/plain": [
       "'Maria Oliveira'"
      ]
     },
     "execution_count": 13,
     "metadata": {},
     "output_type": "execute_result"
    }
   ],
   "source": [
    "nome = 'maria oliveira'\n",
    "nome.title()"
   ]
  },
  {
   "cell_type": "code",
   "execution_count": 14,
   "metadata": {},
   "outputs": [
    {
     "data": {
      "text/plain": [
       "'mARIA oLIVEIRA'"
      ]
     },
     "execution_count": 14,
     "metadata": {},
     "output_type": "execute_result"
    }
   ],
   "source": [
    "nome = 'Maria Oliveira'\n",
    "nome.swapcase()"
   ]
  },
  {
   "cell_type": "code",
   "execution_count": 15,
   "metadata": {},
   "outputs": [
    {
     "name": "stdout",
     "output_type": "stream",
     "text": [
      "True\n",
      "False\n"
     ]
    }
   ],
   "source": [
    "print('UPPER'.isupper())\n",
    "print('UpPEr'.isupper())"
   ]
  },
  {
   "cell_type": "code",
   "execution_count": null,
   "metadata": {},
   "outputs": [],
   "source": [
    "# TODO: substrings"
   ]
  },
  {
   "cell_type": "markdown",
   "metadata": {},
   "source": [
    "<h3>Exercícios</h3>"
   ]
  },
  {
   "cell_type": "markdown",
   "metadata": {},
   "source": [
    "<ol>\n",
    "    <li>Escreva uma função que retorna o número de dígitos de um inteiro.</li>\n",
    "    <li>\n",
    "        <p>Atribua a uma variável em seu programa um string entre aspas triplas contendo seu parágrafo favorito de um poema, discurso, receita de bolo, etc.\n",
    "\n",
    "Escreva uma função que remove toda a pontuação de um string e conta o número de palavras no string que contém a letra ‘e’. Seu programa deve imprimir uma análise desse texto da seguinte forma:<p>\n",
    "Seu texto contém 243 palavras, das quais 109 (44.8%) contém um 'e'.\n",
    "    </li>\n",
    "<ol>"
   ]
  },
  {
   "cell_type": "markdown",
   "metadata": {},
   "source": [
    "<h2>Condicionais</h2>"
   ]
  },
  {
   "cell_type": "code",
   "execution_count": 16,
   "metadata": {},
   "outputs": [
    {
     "data": {
      "text/plain": [
       "10"
      ]
     },
     "execution_count": 16,
     "metadata": {},
     "output_type": "execute_result"
    }
   ],
   "source": [
    "10 if 10 % 2 == 0 else 2"
   ]
  },
  {
   "cell_type": "code",
   "execution_count": 17,
   "metadata": {},
   "outputs": [
    {
     "name": "stdout",
     "output_type": "stream",
     "text": [
      "É verdadeiro!\n"
     ]
    }
   ],
   "source": [
    "if True:\n",
    "    print('É verdadeiro!')"
   ]
  },
  {
   "cell_type": "code",
   "execution_count": 19,
   "metadata": {},
   "outputs": [
    {
     "name": "stdout",
     "output_type": "stream",
     "text": [
      "Insira um numero: 3\n",
      "Não é maior que 20\n"
     ]
    }
   ],
   "source": [
    "numero = int(input('Insira um numero: '))\n",
    "if numero > 20:\n",
    "    print('Maior que 20!')\n",
    "else:\n",
    "    print('Não é maior que 20')"
   ]
  },
  {
   "cell_type": "code",
   "execution_count": 20,
   "metadata": {},
   "outputs": [
    {
     "name": "stdout",
     "output_type": "stream",
     "text": [
      "Insira um numero: 2\n",
      "Menor que 10!\n"
     ]
    }
   ],
   "source": [
    "numero = int(input('Insira um numero: '))\n",
    "if numero > 20:\n",
    "    print('Maior que 20!')\n",
    "elif numero < 10:\n",
    "    print('Menor que 10!')\n",
    "else:\n",
    "    print('Não é maior que 20 e não é menor que 10')"
   ]
  },
  {
   "cell_type": "markdown",
   "metadata": {},
   "source": [
    "<h3>Exercícios</h3>"
   ]
  },
  {
   "cell_type": "markdown",
   "metadata": {},
   "source": [
    "<ol>\n",
    "    <li>Faça um Programa que peça dois números e imprima o maior deles.</li>\n",
    "    <li>Faça um Programa que peça um valor e mostre na tela se o valor é positivo ou negativo.</li>\n",
    "    <li>Faça um Programa que verifique se uma letra digitada é \"F\" ou \"M\". Conforme a letra escrever: F - Feminino, M - Masculino, Sexo Inválido.</li>\n",
    "    <li>Faça um Programa que verifique se uma letra digitada é vogal ou consoante.</li>\n",
    "    <li>Faça um programa para a leitura de duas notas parciais de um aluno. O programa deve calcular a média alcançada por aluno e apresentar:\n",
    "        <ul>\n",
    "            <li>A mensagem \"Aprovado\", se a média alcançada for maior ou igual a sete;</li>\n",
    "            <li>A mensagem \"Reprovado\", se a média for menor do que sete;</li>\n",
    "            <li>A mensagem \"Aprovado com Distinção\", se a média for igual a dez.</li>\n",
    "        </ul>\n",
    "    </li>\n",
    "    <li>\n",
    "        <p>Faça um programa para uma loja de tintas. O programa deverá pedir o tamanho em metros quadrados da área a serpintada. Considere que a cobertura da tinta é de 1 litro para cada 3 metros quadrados e que a tinta é vendida em latas de 18 litros, que custam R\\$ 80,00. Informe ao usuário a quantidades de latas de tinta a serem compradas e o preço total.</p>\n",
    "    </li>\n",
    "    <li>Faça um programa para uma loja de tintas. O programa deverá pedir o tamanho em metros quadrados da área a ser pintada. Considere que a cobertura da tinta é de 1 litro para cada 6 metros quadrados e que a tinta é vendida em latas de 18 litros, que custam R\\$ 80,00 ou em galões de 3,6 litros, que custam R\\$ 25,00.\n",
    "Informe ao usuário as quantidades de tinta a serem compradas e os respectivos preços em 3 situações:\n",
    "    <ul>\n",
    "        <li>comprar apenas latas de 18 litros;</li>\n",
    "        <li>comprar apenas galões de 3,6 litros;</li>\n",
    "        <li>misturar latas e galões, de forma que o preço seja o menor.</li>\n",
    "    </ul>\n",
    "Acrescente 10% de folga e sempre arredonde os valores para cima, isto é, considere latas cheias.\n",
    "    </li>\n",
    "    <li>As Organizações Tabajara resolveram dar um aumento de salário aos seus colaboradores e lhe contraram para desenvolver o programa que calculará os reajustes. Faça um programa que recebe o salário de um colaborador e o reajuste segundo o seguinte critério, baseado no salário atual:\n",
    "    <ul>\n",
    "        <li>salários até R\\$ 280,00 (incluindo) : aumento de 20%</li>\n",
    "        <li>salários entre R\\$ 280,00 e R\\$ 700,00 : aumento de 15%</li>\n",
    "        <li>salários entre R\\$ 700,00 e R\\$ 1500,00 : aumento de 10%</li>\n",
    "        <li>salários de R\\$ 1500,00 em diante : aumento de 5%</li>\n",
    "    <ul>\n",
    "    Após o aumento ser realizado, informe na tela:\n",
    "    <ul>\n",
    "        <li>o salário antes do reajuste;</li>\n",
    "        <li>o percentual de aumento aplicado;</li>\n",
    "        <li>o valor do aumento;</li>\n",
    "        <li>o novo salário, após o aumento.</li>\n",
    "    <ul>\n",
    "    </li>\n",
    "</ol>"
   ]
  },
  {
   "cell_type": "markdown",
   "metadata": {},
   "source": [
    "<h2>Listas, tuplas e dicionários</h2>"
   ]
  },
  {
   "cell_type": "code",
   "execution_count": null,
   "metadata": {},
   "outputs": [],
   "source": []
  },
  {
   "cell_type": "markdown",
   "metadata": {},
   "source": [
    "<h3>Exercícios</h3>"
   ]
  }
 ],
 "metadata": {
  "kernelspec": {
   "display_name": "Python 3",
   "language": "python",
   "name": "python3"
  },
  "language_info": {
   "codemirror_mode": {
    "name": "ipython",
    "version": 3
   },
   "file_extension": ".py",
   "mimetype": "text/x-python",
   "name": "python",
   "nbconvert_exporter": "python",
   "pygments_lexer": "ipython3",
   "version": "3.7.4"
  }
 },
 "nbformat": 4,
 "nbformat_minor": 2
}
