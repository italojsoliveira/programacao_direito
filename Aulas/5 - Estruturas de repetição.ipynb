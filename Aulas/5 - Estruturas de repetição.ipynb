{
 "cells": [
  {
   "cell_type": "markdown",
   "metadata": {},
   "source": [
    "## Estruturas de repetição"
   ]
  },
  {
   "cell_type": "markdown",
   "metadata": {},
   "source": [
    "### Iteração - For"
   ]
  },
  {
   "cell_type": "code",
   "execution_count": 2,
   "metadata": {},
   "outputs": [
    {
     "name": "stdout",
     "output_type": "stream",
     "text": [
      "Leite\n",
      "Frutas\n",
      "Carne\n"
     ]
    }
   ],
   "source": [
    "# Criando uma lista e imprimindo cada um dos valores\n",
    "\n",
    "lista_mercado = [\"Leite\", \"Frutas\", \"Carne\"]\n",
    "for item in lista_mercado:\n",
    "    print(item)"
   ]
  },
  {
   "cell_type": "code",
   "execution_count": 1,
   "metadata": {},
   "outputs": [
    {
     "name": "stdout",
     "output_type": "stream",
     "text": [
      "2\n",
      "4\n",
      "6\n",
      "8\n",
      "10\n"
     ]
    }
   ],
   "source": [
    "# Imprimindo na tela os números pares da lista de números\n",
    "\n",
    "lista = [1,2,3,4,5,6,7,8,9,10]\n",
    "for numero in lista:\n",
    "    if numero % 2 == 0:\n",
    "        print (numero)"
   ]
  },
  {
   "cell_type": "code",
   "execution_count": 1,
   "metadata": {},
   "outputs": [
    {
     "name": "stdout",
     "output_type": "stream",
     "text": [
      "Achei!\n"
     ]
    }
   ],
   "source": [
    "# Pesquisando em listas\n",
    "\n",
    "profissoes = ['advogado', 'dentista', 'engenheiro']\n",
    "\n",
    "# Iteração na lista\n",
    "for profissao in profissoes:\n",
    "    if profissao == 'advogado':\n",
    "        print(\"Achei!\")"
   ]
  },
  {
   "cell_type": "code",
   "execution_count": 2,
   "metadata": {},
   "outputs": [
    {
     "name": "stdout",
     "output_type": "stream",
     "text": [
      "P\n",
      "y\n",
      "t\n",
      "h\n",
      "o\n",
      "n\n",
      "!\n"
     ]
    }
   ],
   "source": [
    "# Strings também são sequências\n",
    "\n",
    "for letra in 'Python!':\n",
    "    print (letra)"
   ]
  },
  {
   "cell_type": "code",
   "execution_count": 5,
   "metadata": {},
   "outputs": [
    {
     "name": "stdout",
     "output_type": "stream",
     "text": [
      "[1, 2, 3]\n",
      "[10, 15, 14]\n",
      "[10.1, 8.7, 2.3]\n"
     ]
    }
   ],
   "source": [
    "# Loops em lista de listas\n",
    "\n",
    "listas = [[1,2,3], [10,15,14], [10.1,8.7,2.3]]\n",
    "for valor in listas:\n",
    "    print(valor)"
   ]
  },
  {
   "cell_type": "code",
   "execution_count": 4,
   "metadata": {},
   "outputs": [
    {
     "name": "stdout",
     "output_type": "stream",
     "text": [
      "Renata\n",
      "20\n",
      "Teresa\n",
      "25\n",
      "João\n",
      "37\n"
     ]
    }
   ],
   "source": [
    "# Loops aninhados\n",
    "\n",
    "lista_nome_idade = [['Renata', 20], ['Teresa', 25], ['João', 37]]\n",
    "for nome_idade in lista_nome_idade:\n",
    "    for item in nome_idade:\n",
    "        print(item)"
   ]
  },
  {
   "cell_type": "code",
   "execution_count": 6,
   "metadata": {},
   "outputs": [
    {
     "name": "stdout",
     "output_type": "stream",
     "text": [
      "5\n"
     ]
    }
   ],
   "source": [
    "# Contando os itens de uma lista\n",
    "\n",
    "lista = [5, 6, 10, 13, 17]\n",
    "count = 0\n",
    "for item in lista:\n",
    "    count += 1\n",
    "    \n",
    "print(count)"
   ]
  },
  {
   "cell_type": "markdown",
   "metadata": {},
   "source": [
    "### Iteração - While"
   ]
  },
  {
   "cell_type": "code",
   "execution_count": 8,
   "metadata": {},
   "outputs": [
    {
     "name": "stdout",
     "output_type": "stream",
     "text": [
      "0\n",
      "1\n",
      "2\n",
      "3\n",
      "4\n"
     ]
    }
   ],
   "source": [
    "# Usando o loop while para imprimir os valores de 0 a 9\n",
    "\n",
    "counter = 0\n",
    "while counter < 5:\n",
    "    print(counter)\n",
    "    counter = counter + 1"
   ]
  },
  {
   "cell_type": "markdown",
   "metadata": {},
   "source": [
    "## Exercícios\n",
    "\n",
    "1. Escreva um programa para transformar todas as letras de todas as palavras de uma lista em letras maiúsculas. Imprima o resultado no console. Por exemplo:\n",
    "\n",
    "```python\n",
    "# Entrada:\n",
    "['João da Silva', 'São Paulo']\n",
    "\n",
    "# Saída\n",
    "['JOÃO DA SILVA', 'SÃO PAULO']\n",
    "\n",
    "```\n",
    "\n",
    "2. Escreva um programa que recebe uma lista de pessoas (seus dados serão recebidos em um formato de lista, que consistem de nome, cidade na qual a pessoa reside e profissão), e retorna uma lista com o nome de todos os advogados.\n",
    "\n",
    "```python\n",
    "# Entrada:\n",
    "[['João', 'São Paulo', 'advogado'], ['Maria', 'Recife', 'dentista'], ['Alice', 'Curitiba', 'advogado']]\n",
    "\n",
    "# Saída\n",
    "['João', 'Alice']\n",
    "\n",
    "```\n"
   ]
  },
  {
   "cell_type": "code",
   "execution_count": null,
   "metadata": {},
   "outputs": [],
   "source": []
  },
  {
   "cell_type": "markdown",
   "metadata": {},
   "source": [
    "<h2>Referências</h2>\n",
    "\n",
    "#### https://github.com/dsacademybr/PythonFundamentos\n",
    "#### https://github.com/dsacademybr/PythonFundamentos/blob/master/Cap03/Notebooks/DSA-Python-Cap03-02-For.ipynb\n",
    "#### https://github.com/dsacademybr/PythonFundamentos/blob/master/Cap03/Notebooks/DSA-Python-Cap03-03-While.ipynb"
   ]
  },
  {
   "cell_type": "code",
   "execution_count": null,
   "metadata": {},
   "outputs": [],
   "source": []
  }
 ],
 "metadata": {
  "kernelspec": {
   "display_name": "Python 3",
   "language": "python",
   "name": "python3"
  },
  "language_info": {
   "codemirror_mode": {
    "name": "ipython",
    "version": 3
   },
   "file_extension": ".py",
   "mimetype": "text/x-python",
   "name": "python",
   "nbconvert_exporter": "python",
   "pygments_lexer": "ipython3",
   "version": "3.6.1"
  }
 },
 "nbformat": 4,
 "nbformat_minor": 2
}
