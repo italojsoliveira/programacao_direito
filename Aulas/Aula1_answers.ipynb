{
 "cells": [
  {
   "cell_type": "markdown",
   "metadata": {},
   "source": [
    "<h3>Respostas dos exercícios</h3>"
   ]
  },
  {
   "cell_type": "markdown",
   "metadata": {},
   "source": [
    "<p>Faça um programa que mostre a mensagem \"Alo mundo\" na tela.</p>"
   ]
  },
  {
   "cell_type": "code",
   "execution_count": null,
   "metadata": {},
   "outputs": [],
   "source": [
    "print('Alo mundo')"
   ]
  },
  {
   "cell_type": "markdown",
   "metadata": {},
   "source": [
    "<p>Faça um programa que peça as 4 notas bimestrais e mostre a média.</p>"
   ]
  },
  {
   "cell_type": "code",
   "execution_count": null,
   "metadata": {},
   "outputs": [],
   "source": [
    "nota1 = float(input('nota 1: '))\n",
    "nota2 = float(input('nota 2: '))\n",
    "nota3 = float(input('nota 3: '))\n",
    "nota4 = float(input('nota 4: '))\n",
    "media = (nota1 + nota2 + nota3 + nota4) / 4\n",
    "print(media)"
   ]
  },
  {
   "cell_type": "markdown",
   "metadata": {},
   "source": [
    "<p>Faça um programa que peça o raio de um círculo, calcule e mostre sua área. (pi = 3.14)</p>"
   ]
  },
  {
   "cell_type": "code",
   "execution_count": null,
   "metadata": {},
   "outputs": [],
   "source": [
    "raio = float(input('raio: '))\n",
    "area = 3.14 * (raio ** 2)\n",
    "print('area = ' + str(area))"
   ]
  },
  {
   "cell_type": "markdown",
   "metadata": {},
   "source": [
    "<p>Faça um programa que pergunte quanto você ganha por hora e o número de horas trabalhadas no mês. Calcule e mostre o total do seu salário no referido mês.</p>"
   ]
  },
  {
   "cell_type": "code",
   "execution_count": null,
   "metadata": {},
   "outputs": [],
   "source": [
    "valor_por_hora = float(input('valor por hora: '))\n",
    "numero_horas_trabalhadas = int(input('horas trabalhadas'))\n",
    "salario = valor_por_hora * numero_horas_trabalhadas\n",
    "print(salario)"
   ]
  },
  {
   "cell_type": "markdown",
   "metadata": {},
   "source": [
    "<p>Faça um programa que peça a temperatura em graus Farenheit, transforme e mostre a temperatura em graus Celsius. C = (5 * (F-32) / 9).</p>"
   ]
  },
  {
   "cell_type": "code",
   "execution_count": null,
   "metadata": {},
   "outputs": [],
   "source": [
    "temperatura = float(input('temperatura em Farenheit: '))\n",
    "celsius = 5 * (temperatura - 32) / 9\n",
    "print(celsius)"
   ]
  },
  {
   "cell_type": "markdown",
   "metadata": {},
   "source": [
    "<p>Faça um programa que peça 2 números inteiros e um número real. Calcule e mostre:</p>\n",
    "<ol>\n",
    "    <li>o produto do dobro do primeiro com metade do segundo.</li>\n",
    "    <li>a soma do triplo do primeiro com o terceiro.</li>\n",
    "    <li>o terceiro elevado ao cubo.</li>\n",
    "</ol>"
   ]
  },
  {
   "cell_type": "code",
   "execution_count": null,
   "metadata": {},
   "outputs": [],
   "source": [
    "numero_inteiro_1 = int(input('Numero inteiro 1: '))\n",
    "numero_inteiro_2 = int(input('Numero inteiro 2: '))\n",
    "numero_real = float(input('Numero real: '))\n",
    "\n",
    "print((2 * numero_inteiro_1) * (numero_inteiro_2 / 2))\n",
    "print((3 * numero_inteiro_1) + numero_real)\n",
    "print(numero_real ** 3)"
   ]
  },
  {
   "cell_type": "markdown",
   "metadata": {},
   "source": [
    "<p>Faça um programa que pergunte quanto você ganha por hora e o número de horas trabalhadas no mês. Calcule e mostre o total do seu salário no referido mês, sabendo-se que são descontados 11% para o Imposto de Renda, 8% para o INSS e 5% para o sindicato, faça um programa que nos dê:</p>\n",
    "<ol>\n",
    "    <li>salário bruto.</li>\n",
    "    <li>quanto pagou ao INSS.</li>\n",
    "    <li>quanto pagou ao sindicato.</li>\n",
    "    <li>o salário líquido.</li>\n",
    "<ol>\n",
    "Obs.: Salário Bruto - Descontos = Salário Líquido."
   ]
  },
  {
   "cell_type": "code",
   "execution_count": 10,
   "metadata": {},
   "outputs": [
    {
     "name": "stdout",
     "output_type": "stream",
     "text": [
      "20\n",
      "160\n",
      "Salario bruto = 3200.0\n",
      "INSS = 256.0\n",
      "Sindicato = 160.0\n",
      "Salario liquido = 2432.0\n"
     ]
    }
   ],
   "source": [
    "ganho_por_hora = float(input('Ganho por hora: '))\n",
    "numero_horas_trabalhadas = int(input('Numero de horas trabalhadas no mês: '))\n",
    "\n",
    "salario_bruto = ganho_por_hora * numero_horas_trabalhadas\n",
    "imposto_de_renda = 0.11 * salario_bruto\n",
    "inss = 0.08 * salario_bruto\n",
    "sindicato = 0.05 * salario_bruto\n",
    "salario_liquido = salario_bruto - imposto_de_renda - inss - sindicato\n",
    "\n",
    "print('Salario bruto = ' + str(salario_bruto))\n",
    "print('INSS = ' + str(inss))\n",
    "print('Sindicato = ' + str(sindicato))\n",
    "print('Salario liquido = ' + str(salario_liquido))"
   ]
  },
  {
   "cell_type": "markdown",
   "metadata": {},
   "source": [
    "<p>João Papo-de-Pescador comprou um microcomputador para controlar o rendimento diário de seu trabalho. Toda vez que ele traz um peso de peixes maior que o estabelecido pelo regulamento de pesca do estado de São Paulo (50 quilos) deve pagar uma multa de R$ 4,00 por quilo excedente. João precisa que você faça um programa que leia a variável peso (peso de peixes) e calcule o excesso. Gravar na variável excesso a quantidade de quilos além do limite e na variável multa o valor da multa que João deverá pagar. Imprima os dados do programa com as mensagens adequadas.</p>"
   ]
  },
  {
   "cell_type": "code",
   "execution_count": 6,
   "metadata": {},
   "outputs": [
    {
     "name": "stdout",
     "output_type": "stream",
     "text": [
      "peso de peixes56\n",
      "excesso = 6\n",
      "multa = 24\n"
     ]
    }
   ],
   "source": [
    "peso_de_peixes = int(input('peso de peixes'))\n",
    "excesso = (peso_de_peixes > 50 and peso_de_peixes - 50 or peso_de_peixes)\n",
    "multa = excesso * 4\n",
    "print('excesso = ' + str(excesso))\n",
    "print('multa = ' + str(multa))"
   ]
  }
 ],
 "metadata": {
  "kernelspec": {
   "display_name": "Python 3",
   "language": "python",
   "name": "python3"
  },
  "language_info": {
   "codemirror_mode": {
    "name": "ipython",
    "version": 3
   },
   "file_extension": ".py",
   "mimetype": "text/x-python",
   "name": "python",
   "nbconvert_exporter": "python",
   "pygments_lexer": "ipython3",
   "version": "3.7.4"
  }
 },
 "nbformat": 4,
 "nbformat_minor": 2
}
