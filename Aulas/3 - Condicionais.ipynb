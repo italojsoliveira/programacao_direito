{
 "cells": [
  {
   "cell_type": "markdown",
   "metadata": {},
   "source": [
    "<h2>Condicionais</h2>"
   ]
  },
  {
   "cell_type": "code",
   "execution_count": 27,
   "metadata": {},
   "outputs": [
    {
     "name": "stdout",
     "output_type": "stream",
     "text": [
      "É maior de idade!\n"
     ]
    }
   ],
   "source": [
    "# Realizar uma verificação\n",
    "idade = 21\n",
    "if idade >= 18:\n",
    "    print(\"É maior de idade!\")"
   ]
  },
  {
   "cell_type": "code",
   "execution_count": 28,
   "metadata": {},
   "outputs": [
    {
     "name": "stdout",
     "output_type": "stream",
     "text": [
      "Não é maior de idade!\n"
     ]
    }
   ],
   "source": [
    "# If... Else (Se... senão...)\n",
    "idade = 5\n",
    "if idade >= 18:\n",
    "    print(\"É maior de idade!\")\n",
    "else:\n",
    "    print(\"Não é maior de idade!\")"
   ]
  },
  {
   "cell_type": "code",
   "execution_count": 33,
   "metadata": {},
   "outputs": [
    {
     "name": "stdout",
     "output_type": "stream",
     "text": [
      "Digite a idade: 18\n",
      "É maior de idade!\n"
     ]
    }
   ],
   "source": [
    "# Exemplo 1\n",
    "idade = int(input('Digite a idade: '))\n",
    "if idade >= 18:\n",
    "    print(\"É maior de idade!\")\n",
    "else:\n",
    "    print(\"Não é maior de idade!\")"
   ]
  },
  {
   "cell_type": "code",
   "execution_count": 30,
   "metadata": {},
   "outputs": [
    {
     "name": "stdout",
     "output_type": "stream",
     "text": [
      "Não pode votar e não é maior de idade!\n"
     ]
    }
   ],
   "source": [
    "# If..Elif..Else (Se... e se... senão...)\n",
    "idade = 5\n",
    "if idade >= 16 and idade < 18:\n",
    "    print(\"Pode votar e não é maior de idade!\")\n",
    "elif idade < 16:\n",
    "    print(\"Não pode votar e não é maior de idade!\")\n",
    "else:\n",
    "    print(\"Pode votar e é maior de idade!\")"
   ]
  },
  {
   "cell_type": "code",
   "execution_count": 34,
   "metadata": {},
   "outputs": [
    {
     "name": "stdout",
     "output_type": "stream",
     "text": [
      "Digite a idade: 7\n",
      "Não pode votar e não é maior de idade!\n"
     ]
    }
   ],
   "source": [
    "# Exemplo 2\n",
    "idade = int(input('Digite a idade: '))\n",
    "if idade >= 16 and idade < 18:\n",
    "    print(\"Pode votar e não é maior de idade!\")\n",
    "elif idade < 16:\n",
    "    print(\"Não pode votar e não é maior de idade!\")\n",
    "else:\n",
    "    print(\"Pode votar e é maior de idade!\")"
   ]
  },
  {
   "cell_type": "code",
   "execution_count": 35,
   "metadata": {},
   "outputs": [
    {
     "ename": "SyntaxError",
     "evalue": "invalid syntax (<ipython-input-35-20e8653bc258>, line 2)",
     "output_type": "error",
     "traceback": [
      "\u001b[0;36m  File \u001b[0;32m\"<ipython-input-35-20e8653bc258>\"\u001b[0;36m, line \u001b[0;32m2\u001b[0m\n\u001b[0;31m    if 4 > 3\u001b[0m\n\u001b[0m            ^\u001b[0m\n\u001b[0;31mSyntaxError\u001b[0m\u001b[0;31m:\u001b[0m invalid syntax\n"
     ]
    }
   ],
   "source": [
    "# Atenção com a sintaxe\n",
    "if 4 > 3\n",
    "  print(\"Tudo funciona!\")"
   ]
  },
  {
   "cell_type": "code",
   "execution_count": 36,
   "metadata": {},
   "outputs": [
    {
     "ename": "IndentationError",
     "evalue": "expected an indented block (<ipython-input-36-f919ae27c9f2>, line 3)",
     "output_type": "error",
     "traceback": [
      "\u001b[0;36m  File \u001b[0;32m\"<ipython-input-36-f919ae27c9f2>\"\u001b[0;36m, line \u001b[0;32m3\u001b[0m\n\u001b[0;31m    print(\"Tudo funciona!\")\u001b[0m\n\u001b[0m        ^\u001b[0m\n\u001b[0;31mIndentationError\u001b[0m\u001b[0;31m:\u001b[0m expected an indented block\n"
     ]
    }
   ],
   "source": [
    "# Atenção com a sintaxe\n",
    "if 4 > 3:\n",
    "print(\"Tudo funciona!\")"
   ]
  },
  {
   "cell_type": "markdown",
   "metadata": {},
   "source": [
    "<h3>Exercícios</h3>"
   ]
  },
  {
   "cell_type": "markdown",
   "metadata": {},
   "source": [
    "<ol>\n",
    "    <li>Faça um programa que peça dois números e imprima o maior deles.</li>\n",
    "    <li>Faça um programa que peça um valor e mostre na tela se o valor é positivo ou negativo.</li>\n",
    "    <li>Faça um programa que verifique se uma letra digitada é \"F\" ou \"M\". Conforme a letra escrever: F - Feminino, M - Masculino, Sexo Inválido.</li>\n",
    "    <li>Faça um programa que verifique se uma letra digitada é vogal ou consoante.</li>\n",
    "    <li>Faça um programa que receba uma idade e responda se a pessoa é \"absolutamente incapaz\", \"relativamente incapaz\" e \"plenamente capaz\". O programa deve apresentar:\n",
    "        <ul>\n",
    "            <li>A mensagem \"absolutamente incapaz\", se a idade for menor que 16;</li>\n",
    "            <li>A mensagem \"relativamente incapaz\", se a idade for maior que 16 e menor que 18;</li>\n",
    "            <li>A mensagem \"plenamente capaz\", se a idade for maior ou igual a 18.</li>\n",
    "        </ul>\n",
    "    </li>\n",
    "    <li>Faça um programa que receba uma idade e o estado civil e responda se a pessoa é \"absolutamente incapaz\", \"relativamente incapaz\" e \"plenamente capaz\". O programa deve apresentar:\n",
    "        <ul>\n",
    "            <li>A mensagem \"plenamente capaz\", se o estado civil for \"casado\";</li>\n",
    "            <li>A mensagem \"absolutamente incapaz\", se a idade for menor que 16;</li>\n",
    "            <li>A mensagem \"relativamente incapaz\", se a idade for maior que 16 e menor que 18;</li>\n",
    "            <li>A mensagem \"plenamente capaz\", se a idade for maior ou igual a 18.</li>\n",
    "        </ul>\n",
    "    </li>\n",
    "</ol>"
   ]
  },
  {
   "cell_type": "markdown",
   "metadata": {},
   "source": [
    "<h2>Referências</h2>\n",
    "\n",
    "#### https://github.com/dsacademybr/PythonFundamentos"
   ]
  },
  {
   "cell_type": "code",
   "execution_count": null,
   "metadata": {},
   "outputs": [],
   "source": []
  }
 ],
 "metadata": {
  "kernelspec": {
   "display_name": "Python 3",
   "language": "python",
   "name": "python3"
  },
  "language_info": {
   "codemirror_mode": {
    "name": "ipython",
    "version": 3
   },
   "file_extension": ".py",
   "mimetype": "text/x-python",
   "name": "python",
   "nbconvert_exporter": "python",
   "pygments_lexer": "ipython3",
   "version": "3.6.1"
  }
 },
 "nbformat": 4,
 "nbformat_minor": 2
}
