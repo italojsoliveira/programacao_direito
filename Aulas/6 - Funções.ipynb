{
 "cells": [
  {
   "cell_type": "markdown",
   "metadata": {},
   "source": [
    "## Funções"
   ]
  },
  {
   "cell_type": "code",
   "execution_count": 5,
   "metadata": {},
   "outputs": [
    {
     "name": "stdout",
     "output_type": "stream",
     "text": [
      "Oi, mundo!\n"
     ]
    }
   ],
   "source": [
    "# Criar uma função\n",
    "def primeiraFunc():\n",
    "    print('Oi, mundo!')\n",
    "    \n",
    "# Chamando uma função\n",
    "primeiraFunc()"
   ]
  },
  {
   "cell_type": "code",
   "execution_count": 4,
   "metadata": {},
   "outputs": [
    {
     "name": "stdout",
     "output_type": "stream",
     "text": [
      "Olá, Bruno!\n"
     ]
    }
   ],
   "source": [
    "# Criar uma função com parâmetro\n",
    "def primeiraFunc(nome):\n",
    "    print('Olá, %s!' %(nome))\n",
    "\n",
    "# Chamando uma função\n",
    "primeiraFunc('Bruno')"
   ]
  },
  {
   "cell_type": "code",
   "execution_count": 6,
   "metadata": {},
   "outputs": [
    {
     "name": "stdout",
     "output_type": "stream",
     "text": [
      "Primeiro número: 1\n",
      "Segundo número: 2\n",
      "Soma:  3\n"
     ]
    }
   ],
   "source": [
    "# Função para somar números\n",
    "def addNum(firstnum, secondnum):\n",
    "    print(\"Primeiro número: \" + str(firstnum))\n",
    "    print(\"Segundo número: \" + str(secondnum))\n",
    "    print(\"Soma: \", firstnum + secondnum)\n",
    "    \n",
    "# Chamando uma função\n",
    "addNum(1, 2)"
   ]
  },
  {
   "cell_type": "markdown",
   "metadata": {},
   "source": [
    "### Variáveis locais e globais"
   ]
  },
  {
   "cell_type": "code",
   "execution_count": 7,
   "metadata": {},
   "outputs": [
    {
     "name": "stdout",
     "output_type": "stream",
     "text": [
      "2\n"
     ]
    }
   ],
   "source": [
    "# Variável Global\n",
    "var_global = 10  # Esta é uma variável global\n",
    "\n",
    "def multiply(num1, num2):\n",
    "    var_global = num1 * num2  # Esta é uma variável local\n",
    "    print(var_global)\n",
    "\n",
    "# Chamando uma função\n",
    "multiply(1, 2)"
   ]
  },
  {
   "cell_type": "code",
   "execution_count": 8,
   "metadata": {},
   "outputs": [
    {
     "name": "stdout",
     "output_type": "stream",
     "text": [
      "RENATO\n"
     ]
    }
   ],
   "source": [
    "# Variável Global\n",
    "nome = 'João'  # Esta é uma variável global\n",
    "\n",
    "def tornar_maiuscula(nome_completo):\n",
    "    nome = nome_completo.upper()  # Esta é uma variável local\n",
    "    print(nome)\n",
    "\n",
    "# Chamando uma função\n",
    "tornar_maiuscula('Renato')"
   ]
  },
  {
   "cell_type": "code",
   "execution_count": 11,
   "metadata": {},
   "outputs": [
    {
     "name": "stdout",
     "output_type": "stream",
     "text": [
      "125\n"
     ]
    },
    {
     "ename": "NameError",
     "evalue": "name 'var_local' is not defined",
     "output_type": "error",
     "traceback": [
      "\u001b[0;31m---------------------------------------------------------------------------\u001b[0m",
      "\u001b[0;31mNameError\u001b[0m                                 Traceback (most recent call last)",
      "\u001b[0;32m<ipython-input-11-b2180da1a0fa>\u001b[0m in \u001b[0;36m<module>\u001b[0;34m\u001b[0m\n\u001b[1;32m     10\u001b[0m \u001b[0;34m\u001b[0m\u001b[0m\n\u001b[1;32m     11\u001b[0m \u001b[0;31m# Imprimir uma variável local\u001b[0m\u001b[0;34m\u001b[0m\u001b[0;34m\u001b[0m\u001b[0m\n\u001b[0;32m---> 12\u001b[0;31m \u001b[0mprint\u001b[0m\u001b[0;34m(\u001b[0m\u001b[0mvar_local\u001b[0m\u001b[0;34m)\u001b[0m\u001b[0;34m\u001b[0m\u001b[0m\n\u001b[0m",
      "\u001b[0;31mNameError\u001b[0m: name 'var_local' is not defined"
     ]
    }
   ],
   "source": [
    "# Variável Local\n",
    "var_global = 10  # Esta é uma variável global\n",
    "\n",
    "def multiply(num1, num2):\n",
    "    var_local = num1 * num2   # Esta é uma variável local\n",
    "    print(var_local)\n",
    "\n",
    "# Chamando uma função\n",
    "multiply(5, 25)\n",
    "\n",
    "# Imprimir uma variável local\n",
    "print(var_local)"
   ]
  },
  {
   "cell_type": "markdown",
   "metadata": {},
   "source": [
    "### Funções Built-in (Funções definidas internamente pelo Python)"
   ]
  },
  {
   "cell_type": "code",
   "execution_count": 15,
   "metadata": {},
   "outputs": [
    {
     "name": "stdout",
     "output_type": "stream",
     "text": [
      "Mensagem\n",
      "Insira seu nome: Maria Clara\n"
     ]
    }
   ],
   "source": [
    "print('Mensagem')\n",
    "nome = input('Insira seu nome: ')"
   ]
  },
  {
   "cell_type": "code",
   "execution_count": 18,
   "metadata": {},
   "outputs": [
    {
     "name": "stdout",
     "output_type": "stream",
     "text": [
      "True\n"
     ]
    }
   ],
   "source": [
    "# Funções para tipo booleano\n",
    "print(bool('True'))"
   ]
  },
  {
   "cell_type": "code",
   "execution_count": 19,
   "metadata": {},
   "outputs": [
    {
     "name": "stdout",
     "output_type": "stream",
     "text": [
      "123\n"
     ]
    }
   ],
   "source": [
    "# Funções para tipo inteiro\n",
    "print(int('123'))"
   ]
  },
  {
   "cell_type": "code",
   "execution_count": 21,
   "metadata": {},
   "outputs": [
    {
     "name": "stdout",
     "output_type": "stream",
     "text": [
      "123\n"
     ]
    }
   ],
   "source": [
    "# Funções para tipo string\n",
    "print(str(123))"
   ]
  },
  {
   "cell_type": "code",
   "execution_count": 22,
   "metadata": {},
   "outputs": [
    {
     "name": "stdout",
     "output_type": "stream",
     "text": [
      "123.345\n"
     ]
    }
   ],
   "source": [
    "# Funções para tipo número flutuante (float)\n",
    "print(float(\"123.345\"))"
   ]
  },
  {
   "cell_type": "code",
   "execution_count": 23,
   "metadata": {},
   "outputs": [
    {
     "data": {
      "text/plain": [
       "4"
      ]
     },
     "execution_count": 23,
     "metadata": {},
     "output_type": "execute_result"
    }
   ],
   "source": [
    "# Funções para tirar informações de listas\n",
    "\n",
    "# Por exemplo, calcular o número de itens de uma lista:\n",
    "len([23,34,45,46])"
   ]
  },
  {
   "cell_type": "code",
   "execution_count": 25,
   "metadata": {},
   "outputs": [
    {
     "name": "stdout",
     "output_type": "stream",
     "text": [
      "Digite sua idade: 34\n",
      "Você pode acessar o Facebook\n"
     ]
    }
   ],
   "source": [
    "# Usando a função int para converter o valor digitado\n",
    "idade = int(input(\"Digite sua idade: \"))\n",
    "if idade > 13:\n",
    "    print(\"Você pode acessar o Facebook\")"
   ]
  },
  {
   "cell_type": "markdown",
   "metadata": {},
   "source": [
    "### Extraindo dados"
   ]
  },
  {
   "cell_type": "code",
   "execution_count": 30,
   "metadata": {},
   "outputs": [
    {
     "name": "stdout",
     "output_type": "stream",
     "text": [
      "['Esta', 'função', 'será', 'bastante', 'útil', 'para', 'separar', 'grandes', 'volumes', 'de', 'dados.']\n"
     ]
    }
   ],
   "source": [
    "# Separando o texto por espaço\n",
    "def split_string(text):\n",
    "    return text.split(\" \")\n",
    "\n",
    "texto = \"Esta função será bastante útil para separar grandes volumes de dados.\"\n",
    "\n",
    "# Isso divide a string em uma lista.\n",
    "print(split_string(texto))"
   ]
  },
  {
   "cell_type": "code",
   "execution_count": 32,
   "metadata": {},
   "outputs": [
    {
     "name": "stdout",
     "output_type": "stream",
     "text": [
      "['Esta', 'função', 'será', 'bastante', 'útil', 'para', 'separar', 'grandes', 'volumes', 'de', 'dados.']\n"
     ]
    }
   ],
   "source": [
    "# Separando o texto por espaço\n",
    "def split_string(text):\n",
    "    return text.split(\" \")\n",
    "\n",
    "texto = \"Esta função será bastante útil para separar grandes volumes de dados.\"\n",
    "\n",
    "# Podemos atribuir o output de uma função, para uma variável\n",
    "tokens = split_string(texto)\n",
    "print(tokens)"
   ]
  },
  {
   "cell_type": "code",
   "execution_count": 35,
   "metadata": {},
   "outputs": [
    {
     "name": "stdout",
     "output_type": "stream",
     "text": [
      "este texto deveria estar todo em lowercase\n"
     ]
    }
   ],
   "source": [
    "# Função que transforma o texto inteiro em letras minúsculas\n",
    "def lowercase(text):\n",
    "    return text.lower()\n",
    "\n",
    "caixa_baixa = \"Este Texto Deveria Estar Todo Em LowerCase\"\n",
    "\n",
    "# Chamando a função\n",
    "lowercased_string = lowercase(caixa_baixa)\n",
    "\n",
    "# Imprime o resultado da chamada da função\n",
    "print(lowercased_string)"
   ]
  },
  {
   "cell_type": "code",
   "execution_count": 38,
   "metadata": {},
   "outputs": [
    {
     "name": "stdout",
     "output_type": "stream",
     "text": [
      "['Marvin', 'Carla']\n"
     ]
    }
   ],
   "source": [
    "def advogados(pessoas):\n",
    "    resultado = []\n",
    "    for pessoa in pessoas:\n",
    "        if pessoa[1] == 'advogado':\n",
    "            resultado.append(pessoa[0])\n",
    "    return resultado\n",
    "\n",
    "# Criando uma lista de pessoas\n",
    "pessoas = [['Larissa', 'dentista'], ['Marvin', 'advogado'], ['Carla', 'advogado']]\n",
    "\n",
    "# Imprime uma lista com o nome de todos os advogados\n",
    "print(advogados(pessoas))"
   ]
  },
  {
   "cell_type": "markdown",
   "metadata": {},
   "source": [
    "## Referências\n",
    "\n",
    "#### https://github.com/dsacademybr/PythonFundamentos\n",
    "#### https://github.com/dsacademybr/PythonFundamentos/blob/master/Cap03/Notebooks/DSA-Python-Cap03-06-Funcoes.ipynb"
   ]
  },
  {
   "cell_type": "code",
   "execution_count": null,
   "metadata": {},
   "outputs": [],
   "source": []
  }
 ],
 "metadata": {
  "kernelspec": {
   "display_name": "Python 3",
   "language": "python",
   "name": "python3"
  },
  "language_info": {
   "codemirror_mode": {
    "name": "ipython",
    "version": 3
   },
   "file_extension": ".py",
   "mimetype": "text/x-python",
   "name": "python",
   "nbconvert_exporter": "python",
   "pygments_lexer": "ipython3",
   "version": "3.6.1"
  }
 },
 "nbformat": 4,
 "nbformat_minor": 2
}
