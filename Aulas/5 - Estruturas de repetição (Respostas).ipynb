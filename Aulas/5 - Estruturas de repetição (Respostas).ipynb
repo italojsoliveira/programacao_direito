{
 "cells": [
  {
   "cell_type": "markdown",
   "metadata": {},
   "source": [
    "### Respostas dos exercícios\n",
    "\n",
    "## Estruturas de repetição"
   ]
  },
  {
   "cell_type": "markdown",
   "metadata": {},
   "source": [
    "1. Escreva um programa para transformar todas as letras de todas as palavras de uma lista em letras maiúsculas. Imprima o resultado no console. Por exemplo:\n",
    "\n",
    "```python\n",
    "# Entrada:\n",
    "['João da Silva', 'São Paulo']\n",
    "\n",
    "# Saída\n",
    "['JOÃO DA SILVA', 'SÃO PAULO']\n",
    "\n",
    "```\n"
   ]
  },
  {
   "cell_type": "code",
   "execution_count": 1,
   "metadata": {},
   "outputs": [
    {
     "name": "stdout",
     "output_type": "stream",
     "text": [
      "['JOÃO DA SILVA', 'SÃO PAULO']\n"
     ]
    }
   ],
   "source": [
    "resultado = []\n",
    "lista = ['João da Silva', 'São Paulo']\n",
    "for palavra in lista:\n",
    "    resultado.append(palavra.upper())\n",
    "print(resultado)"
   ]
  },
  {
   "cell_type": "markdown",
   "metadata": {},
   "source": [
    "2. Escreva um programa que recebe uma lista de pessoas (seus dados serão recebidos em um formato de lista, que consistem de nome, cidade na qual a pessoa reside e profissão), e retorna uma lista com o nome de todos os advogados.\n",
    "\n",
    "```python\n",
    "# Entrada:\n",
    "[['João', 'São Paulo', 'advogado'], ['Maria', 'Recife', 'dentista'], ['Alice', 'Curitiba', 'advogado']]\n",
    "\n",
    "# Saída\n",
    "['João', 'Alice']\n",
    "\n",
    "```"
   ]
  },
  {
   "cell_type": "code",
   "execution_count": 3,
   "metadata": {},
   "outputs": [
    {
     "name": "stdout",
     "output_type": "stream",
     "text": [
      "['João', 'Alice']\n"
     ]
    }
   ],
   "source": [
    "resultado = []\n",
    "lista = [['João', 'São Paulo', 'advogado'], ['Maria', 'Recife', 'dentista'], ['Alice', 'Curitiba', 'advogado']]\n",
    "for item in lista:\n",
    "    if item[2] == 'advogado':\n",
    "        resultado = resultado + [item[0]]\n",
    "print(resultado)"
   ]
  },
  {
   "cell_type": "markdown",
   "metadata": {},
   "source": [
    "## Referências\n",
    "\n",
    "#### https://github.com/dsacademybr/PythonFundamentos\n",
    "#### https://github.com/dsacademybr/PythonFundamentos/blob/master/Cap03/Notebooks/DSA-Python-Cap03-02-For.ipynb\n",
    "#### https://github.com/dsacademybr/PythonFundamentos/blob/master/Cap03/Notebooks/DSA-Python-Cap03-03-While.ipynb"
   ]
  },
  {
   "cell_type": "code",
   "execution_count": null,
   "metadata": {},
   "outputs": [],
   "source": []
  }
 ],
 "metadata": {
  "kernelspec": {
   "display_name": "Python 3",
   "language": "python",
   "name": "python3"
  },
  "language_info": {
   "codemirror_mode": {
    "name": "ipython",
    "version": 3
   },
   "file_extension": ".py",
   "mimetype": "text/x-python",
   "name": "python",
   "nbconvert_exporter": "python",
   "pygments_lexer": "ipython3",
   "version": "3.6.1"
  }
 },
 "nbformat": 4,
 "nbformat_minor": 2
}
