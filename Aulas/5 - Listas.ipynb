{
 "cells": [
  {
   "cell_type": "markdown",
   "metadata": {},
   "source": [
    "<h2>Listas</h2>"
   ]
  },
  {
   "cell_type": "code",
   "execution_count": 1,
   "metadata": {},
   "outputs": [
    {
     "name": "stdout",
     "output_type": "stream",
     "text": [
      "True\n"
     ]
    }
   ],
   "source": [
    "# Criando uma lista\n",
    "lista_do_mercado = [\"ovos\", \"farinha\", \"leite\", \"maçãs\"]\n",
    "\n",
    "# Verificando se tem ovos na lista do mercado\n",
    "print(\"ovos\" in lista_do_mercado)"
   ]
  },
  {
   "cell_type": "code",
   "execution_count": 2,
   "metadata": {},
   "outputs": [
    {
     "name": "stdout",
     "output_type": "stream",
     "text": [
      "False\n"
     ]
    }
   ],
   "source": [
    "# Criando uma lista\n",
    "lista_do_mercado = [\"ovos\", \"farinha\", \"leite\", \"maçãs\"]\n",
    "\n",
    "# Verificando se tem banana na lista do mercado\n",
    "print(\"banana\" in lista_do_mercado)"
   ]
  },
  {
   "cell_type": "code",
   "execution_count": 3,
   "metadata": {},
   "outputs": [
    {
     "name": "stdout",
     "output_type": "stream",
     "text": [
      "['ovos', 'farinha', 'leite', 'maçãs', 'carne']\n"
     ]
    }
   ],
   "source": [
    "# Criando uma lista\n",
    "lista_do_mercado = [\"ovos\", \"farinha\", \"leite\", \"maçãs\"]\n",
    "\n",
    "# Adicionando um item à lista\n",
    "lista_do_mercado.append(\"carne\")\n",
    "\n",
    "# Imprimir lista\n",
    "print(lista_do_mercado)"
   ]
  },
  {
   "cell_type": "code",
   "execution_count": 4,
   "metadata": {},
   "outputs": [
    {
     "data": {
      "text/plain": [
       "['Maria', 'Oliveira']"
      ]
     },
     "execution_count": 4,
     "metadata": {},
     "output_type": "execute_result"
    }
   ],
   "source": [
    "# Separar as palavras em um string por espaço\n",
    "nome = 'Maria Oliveira'\n",
    "nome.split()"
   ]
  },
  {
   "cell_type": "code",
   "execution_count": 5,
   "metadata": {},
   "outputs": [
    {
     "data": {
      "text/plain": [
       "['M', 'ri', ' Oliveir', '']"
      ]
     },
     "execution_count": 5,
     "metadata": {},
     "output_type": "execute_result"
    }
   ],
   "source": [
    "# Separar as palavras em um string pela letra 'a'\n",
    "nome = 'Maria Oliveira'\n",
    "nome.split('a')"
   ]
  },
  {
   "cell_type": "markdown",
   "metadata": {},
   "source": [
    "<h3>Exercícios</h3>"
   ]
  },
  {
   "cell_type": "markdown",
   "metadata": {},
   "source": [
    "<ol>\n",
    "    <li>\n",
    "        <p>Atribua a uma variável em seu programa um string entre aspas triplas contendo esse documento:</p>\n",
    "        IDENTIFICAÇÃO DAS PARTES CONTRATANTES\n",
    "\n",
    "        VENDEDOR: (Nome do Vendedor), (Nacionalidade), (Estado Civil), C.P.F. nº (xxx);\n",
    "       \n",
    "        COMPRADOR: (Nome do Comprador), (Nacionalidade), (Estado Civil), C.P.F. nº (xxx).\n",
    "       \n",
    "        As partes acima identificadas têm, entre si, justo e acertado o presente Contrato de Compra e Venda de Bem Imóvel à Vista entre Pessoas Físicas, que se regerá pelas cláusulas seguintes e pelas condições descritas no presente.\n",
    "<p>Escreva um programa recebe o nome do vendedor, nacionalidade, estado civil e cpf; assim como todas essas informações do comprador. Os nomes e as nacionalidades (tanto do vendedor quanto do comprador) devem ser apresentadas em maiúsculo. Seu programa deve imprimir o documento referente à identificação das partes contrantes.</p>\n",
    "    </li>\n",
    "</ol>"
   ]
  }
 ],
 "metadata": {
  "kernelspec": {
   "display_name": "Python 3",
   "language": "python",
   "name": "python3"
  },
  "language_info": {
   "codemirror_mode": {
    "name": "ipython",
    "version": 3
   },
   "file_extension": ".py",
   "mimetype": "text/x-python",
   "name": "python",
   "nbconvert_exporter": "python",
   "pygments_lexer": "ipython3",
   "version": "3.6.1"
  }
 },
 "nbformat": 4,
 "nbformat_minor": 2
}
