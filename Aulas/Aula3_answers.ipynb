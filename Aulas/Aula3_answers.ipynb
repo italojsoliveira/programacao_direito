{
 "cells": [
  {
   "cell_type": "code",
   "execution_count": 16,
   "metadata": {},
   "outputs": [
    {
     "name": "stdout",
     "output_type": "stream",
     "text": [
      "['Maria', 'brasileira', '12345']\n",
      "Nome: Maria\n",
      "Nacionalidade: brasileira\n",
      "Telefone: 12345\n",
      "['Jose', 'brasileiro', '123456']\n",
      "Nome: Jose\n",
      "Nacionalidade: brasileiro\n",
      "Telefone: 123456\n",
      "Linhas processadas 2 lines.\n"
     ]
    }
   ],
   "source": [
    "import csv\n",
    "\n",
    "with open('dados.csv') as csv_file:\n",
    "    arquivo = csv.reader(csv_file, delimiter=',') # leitura do arquivo\n",
    "    next(arquivo) # pular cabecalho\n",
    "    \n",
    "    total_linhas = 0\n",
    "    for linha in arquivo:\n",
    "        print(linha)\n",
    "        print('Nome: ' + linha[0])\n",
    "        print('Nacionalidade: ' + linha[1])\n",
    "        print('Telefone: ' + linha[2])\n",
    "        total_linhas += 1\n",
    "    print('Linhas processadas ' + str(total_linhas) + ' lines.')"
   ]
  },
  {
   "cell_type": "code",
   "execution_count": null,
   "metadata": {},
   "outputs": [],
   "source": []
  }
 ],
 "metadata": {
  "kernelspec": {
   "display_name": "Python 3",
   "language": "python",
   "name": "python3"
  },
  "language_info": {
   "codemirror_mode": {
    "name": "ipython",
    "version": 3
   },
   "file_extension": ".py",
   "mimetype": "text/x-python",
   "name": "python",
   "nbconvert_exporter": "python",
   "pygments_lexer": "ipython3",
   "version": "3.6.1"
  }
 },
 "nbformat": 4,
 "nbformat_minor": 2
}
