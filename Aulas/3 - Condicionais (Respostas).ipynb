{
 "cells": [
  {
   "cell_type": "markdown",
   "metadata": {},
   "source": [
    "<h3>Respostas dos exercícios</h3>"
   ]
  },
  {
   "cell_type": "markdown",
   "metadata": {},
   "source": [
    "<h2>Condicionais</h2>"
   ]
  },
  {
   "cell_type": "markdown",
   "metadata": {},
   "source": [
    "<p>Faça um programa que peça dois números e imprima o maior deles.</p>"
   ]
  },
  {
   "cell_type": "code",
   "execution_count": 5,
   "metadata": {},
   "outputs": [
    {
     "name": "stdout",
     "output_type": "stream",
     "text": [
      "Digite número 1: 2\n",
      "Digite número 1: 4\n",
      "O maior número é  4\n"
     ]
    }
   ],
   "source": [
    "numero1 = input('Digite número 1: ')\n",
    "numero2 = input('Digite número 1: ')\n",
    "\n",
    "if numero1 > numero2:\n",
    "    print('O maior número é ', numero1)\n",
    "else:\n",
    "    print('O maior número é ', numero2)"
   ]
  },
  {
   "cell_type": "markdown",
   "metadata": {},
   "source": [
    "<p>Faça um programa que peça um valor e mostre na tela se o valor é positivo ou negativo.</p>"
   ]
  },
  {
   "cell_type": "code",
   "execution_count": 7,
   "metadata": {},
   "outputs": [
    {
     "name": "stdout",
     "output_type": "stream",
     "text": [
      "Digite número: -4\n",
      "negativo\n"
     ]
    }
   ],
   "source": [
    "numero = int(input('Digite número: '))\n",
    "if numero > 0:\n",
    "    print('positivo')\n",
    "else:\n",
    "    print('negativo')"
   ]
  },
  {
   "cell_type": "markdown",
   "metadata": {},
   "source": [
    "<p>Faça um programa que verifique se uma letra digitada é \"F\" ou \"M\". Conforme a letra escrever: F - Feminino, M - Masculino, Sexo Inválido.</p>"
   ]
  },
  {
   "cell_type": "code",
   "execution_count": null,
   "metadata": {},
   "outputs": [],
   "source": [
    "sexo = input('Digite sexo: ')\n",
    "\n",
    "if sexo == 'F':\n",
    "    print('Feminino')\n",
    "elif sexo == 'M':\n",
    "    print('Masculino')\n",
    "else:\n",
    "    print('sexo inválido')"
   ]
  },
  {
   "cell_type": "markdown",
   "metadata": {},
   "source": [
    "<p>Faça um programa que verifique se uma letra digitada é vogal ou consoante.</p>"
   ]
  },
  {
   "cell_type": "code",
   "execution_count": 8,
   "metadata": {},
   "outputs": [
    {
     "name": "stdout",
     "output_type": "stream",
     "text": [
      "Digite letra: w\n",
      "consoante\n"
     ]
    }
   ],
   "source": [
    "letra = input('Digite letra: ')\n",
    "\n",
    "if letra == 'a' or letra == 'e' or letra == 'i' or letra == 'o' or letra == 'u':\n",
    "    print('vogal')\n",
    "else:\n",
    "    print('consoante')"
   ]
  },
  {
   "cell_type": "markdown",
   "metadata": {},
   "source": [
    "<p>Faça um programa que receba uma idade e responda se a pessoa é \"absolutamente incapaz\", \"relativamente incapaz\" e \"plenamente capaz\". O programa deve apresentar:\n",
    "    <ul>\n",
    "        <li>A mensagem \"absolutamente incapaz\", se a idade for menor que 16;</li>\n",
    "        <li>A mensagem \"relativamente incapaz\", se a idade for maior que 16 e menor que 18;</li>\n",
    "        <li>A mensagem \"plenamente capaz\", se a idade for maior ou igual a 18.</li>\n",
    "    </ul>\n",
    "</p>"
   ]
  },
  {
   "cell_type": "code",
   "execution_count": null,
   "metadata": {},
   "outputs": [],
   "source": [
    "idade = input('Digite idade: ')\n",
    "\n",
    "if idade < 16:\n",
    "    print('absolutamente incapaz')\n",
    "elif idade >= 16 and idade < 18:\n",
    "    print('relativamente incapaz')\n",
    "else:\n",
    "    print('plenamente capaz')"
   ]
  },
  {
   "cell_type": "markdown",
   "metadata": {},
   "source": [
    "<p>Faça um programa que receba uma idade e o estado civil e responda se a pessoa é \"absolutamente incapaz\", \"relativamente incapaz\" e \"plenamente capaz\". O programa deve apresentar:\n",
    "    <ul>\n",
    "        <li>A mensagem \"plenamente capaz\", se o estado civil for \"casado\";</li>\n",
    "        <li>A mensagem \"absolutamente incapaz\", se a idade for menor que 16;</li>\n",
    "        <li>A mensagem \"relativamente incapaz\", se a idade for maior que 16 e menor que 18;</li>\n",
    "        <li>A mensagem \"plenamente capaz\", se a idade for maior ou igual a 18.</li>\n",
    "    </ul>\n",
    "</p>"
   ]
  },
  {
   "cell_type": "code",
   "execution_count": 2,
   "metadata": {},
   "outputs": [
    {
     "name": "stdout",
     "output_type": "stream",
     "text": [
      "Digite idade: 18\n",
      "Digite estado civil: solteiro\n",
      "plenamente capaz\n"
     ]
    }
   ],
   "source": [
    "idade = int(input('Digite idade: '))\n",
    "estado_civil = input('Digite estado civil: ')\n",
    "\n",
    "if estado_civil == 'casado':\n",
    "    print('plenamente capaz')\n",
    "elif idade < 16:\n",
    "    print('absolutamente incapaz')\n",
    "elif idade >= 16 and idade < 18:\n",
    "    print('relativamente incapaz')\n",
    "else:\n",
    "    print('plenamente capaz')"
   ]
  },
  {
   "cell_type": "code",
   "execution_count": null,
   "metadata": {},
   "outputs": [],
   "source": []
  }
 ],
 "metadata": {
  "kernelspec": {
   "display_name": "Python 3",
   "language": "python",
   "name": "python3"
  },
  "language_info": {
   "codemirror_mode": {
    "name": "ipython",
    "version": 3
   },
   "file_extension": ".py",
   "mimetype": "text/x-python",
   "name": "python",
   "nbconvert_exporter": "python",
   "pygments_lexer": "ipython3",
   "version": "3.6.1"
  }
 },
 "nbformat": 4,
 "nbformat_minor": 2
}
