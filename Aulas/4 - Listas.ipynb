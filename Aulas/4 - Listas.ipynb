{
 "cells": [
  {
   "cell_type": "markdown",
   "metadata": {},
   "source": [
    "## Listas"
   ]
  },
  {
   "cell_type": "code",
   "execution_count": 27,
   "metadata": {},
   "outputs": [
    {
     "name": "stdout",
     "output_type": "stream",
     "text": [
      "True\n"
     ]
    }
   ],
   "source": [
    "# Criando uma lista\n",
    "lista_do_mercado = [\"ovos\", \"farinha\", \"leite\", \"maçãs\"]\n",
    "\n",
    "# Verificando se tem ovos na lista do mercado\n",
    "print(\"ovos\" in lista_do_mercado)"
   ]
  },
  {
   "cell_type": "code",
   "execution_count": 2,
   "metadata": {},
   "outputs": [
    {
     "name": "stdout",
     "output_type": "stream",
     "text": [
      "False\n"
     ]
    }
   ],
   "source": [
    "# Criando uma lista\n",
    "lista_do_mercado = [\"ovos\", \"farinha\", \"leite\", \"maçãs\"]\n",
    "\n",
    "# Verificando se tem banana na lista do mercado\n",
    "print(\"banana\" in lista_do_mercado)"
   ]
  },
  {
   "cell_type": "code",
   "execution_count": 3,
   "metadata": {},
   "outputs": [
    {
     "name": "stdout",
     "output_type": "stream",
     "text": [
      "['ovos', 'farinha', 'leite', 'maçãs', 'carne']\n"
     ]
    }
   ],
   "source": [
    "# Criando uma lista\n",
    "lista_do_mercado = [\"ovos\", \"farinha\", \"leite\", \"maçãs\"]\n",
    "\n",
    "# Adicionando um item à lista\n",
    "lista_do_mercado.append(\"carne\")\n",
    "\n",
    "# Imprimir lista\n",
    "print(lista_do_mercado)"
   ]
  },
  {
   "cell_type": "code",
   "execution_count": 1,
   "metadata": {},
   "outputs": [
    {
     "data": {
      "text/plain": [
       "['Maria', 'Oliveira']"
      ]
     },
     "execution_count": 1,
     "metadata": {},
     "output_type": "execute_result"
    }
   ],
   "source": [
    "# Separar as palavras em um string por espaço\n",
    "nome = 'Maria Oliveira'\n",
    "nome.split(' ')"
   ]
  },
  {
   "cell_type": "code",
   "execution_count": 3,
   "metadata": {},
   "outputs": [
    {
     "data": {
      "text/plain": [
       "['Maria', 'Oliveira']"
      ]
     },
     "execution_count": 3,
     "metadata": {},
     "output_type": "execute_result"
    }
   ],
   "source": [
    "# Separar as palavras em um string por espaço\n",
    "nome = 'Maria Oliveira'\n",
    "\n",
    "# Também pode-se omitir o espaço para separar palavras\n",
    "nome.split()"
   ]
  },
  {
   "cell_type": "code",
   "execution_count": 5,
   "metadata": {},
   "outputs": [
    {
     "data": {
      "text/plain": [
       "['Ma', 'ia Olivei', 'a']"
      ]
     },
     "execution_count": 5,
     "metadata": {},
     "output_type": "execute_result"
    }
   ],
   "source": [
    "# Separar as palavras em um string pela letra 'r'\n",
    "nome = 'Maria Oliveira'\n",
    "nome.split('r')"
   ]
  },
  {
   "cell_type": "code",
   "execution_count": 3,
   "metadata": {},
   "outputs": [
    {
     "name": "stdout",
     "output_type": "stream",
     "text": [
      "Regina\n",
      "Oliveira\n",
      "Tejo\n"
     ]
    }
   ],
   "source": [
    "# Atribuindo cada valor da lista a uma variável.\n",
    "nome_completo = 'Regina Oliveira Tejo'\n",
    "lista_de_nomes = nome_completo.split()\n",
    "\n",
    "# Lembre-se: em Python o índice começa por 0!\n",
    "primeiro_nome = lista_de_nomes[0]\n",
    "nome_do_meio = lista_de_nomes[1]\n",
    "ultimo_nome = lista_de_nomes[2]\n",
    "\n",
    "# Imprimindo nomes\n",
    "print(primeiro_nome)\n",
    "print(nome_do_meio)\n",
    "print(ultimo_nome)"
   ]
  },
  {
   "cell_type": "code",
   "execution_count": 1,
   "metadata": {},
   "outputs": [
    {
     "name": "stdout",
     "output_type": "stream",
     "text": [
      "['Rogério', 32, 1.8, 'Natal', 'Rua das Flores', 22]\n"
     ]
    }
   ],
   "source": [
    "# Concatenando listas\n",
    "\n",
    "dados_pessoais_cliente = ['Rogério', 32, 1.8]\n",
    "endereco_cliente = ['Natal', 'Rua das Flores', 22]\n",
    "\n",
    "dados_cliente = dados_pessoais_cliente + endereco_cliente\n",
    "print(dados_cliente)"
   ]
  },
  {
   "cell_type": "code",
   "execution_count": 6,
   "metadata": {},
   "outputs": [
    {
     "name": "stdout",
     "output_type": "stream",
     "text": [
      "['Recife', 'Manaus']\n"
     ]
    }
   ],
   "source": [
    "# Removendo um item da lista através do índice\n",
    "\n",
    "cidades = ['Recife', 'Manaus', 'Salvador']\n",
    "del cidades[2]\n",
    "print(cidades)"
   ]
  },
  {
   "cell_type": "markdown",
   "metadata": {},
   "source": [
    "### Funções auxiliares"
   ]
  },
  {
   "cell_type": "code",
   "execution_count": 7,
   "metadata": {},
   "outputs": [
    {
     "data": {
      "text/plain": [
       "4"
      ]
     },
     "execution_count": 7,
     "metadata": {},
     "output_type": "execute_result"
    }
   ],
   "source": [
    "# Função len() retorna o comprimento da lista\n",
    "len(lista_do_mercado)"
   ]
  },
  {
   "cell_type": "code",
   "execution_count": 8,
   "metadata": {},
   "outputs": [
    {
     "data": {
      "text/plain": [
       "'ovos'"
      ]
     },
     "execution_count": 8,
     "metadata": {},
     "output_type": "execute_result"
    }
   ],
   "source": [
    "# Função max() retorna o valor máximo da lista\n",
    "max(lista_do_mercado)"
   ]
  },
  {
   "cell_type": "code",
   "execution_count": 9,
   "metadata": {},
   "outputs": [
    {
     "data": {
      "text/plain": [
       "'farinha'"
      ]
     },
     "execution_count": 9,
     "metadata": {},
     "output_type": "execute_result"
    }
   ],
   "source": [
    "# Função min() retorna o valor mínimo da lista\n",
    "min(lista_do_mercado)"
   ]
  },
  {
   "cell_type": "code",
   "execution_count": 28,
   "metadata": {},
   "outputs": [
    {
     "name": "stdout",
     "output_type": "stream",
     "text": [
      "['ovos', 'farinha', 'leite', 'maçãs', 'carne']\n"
     ]
    }
   ],
   "source": [
    "# Adicionando um item à lista\n",
    "lista_do_mercado.append(\"carne\")\n",
    "print(lista_do_mercado)"
   ]
  },
  {
   "cell_type": "code",
   "execution_count": 22,
   "metadata": {},
   "outputs": [
    {
     "data": {
      "text/plain": [
       "1"
      ]
     },
     "execution_count": 22,
     "metadata": {},
     "output_type": "execute_result"
    }
   ],
   "source": [
    "lista_do_mercado.count(\"carne\")"
   ]
  },
  {
   "cell_type": "code",
   "execution_count": 3,
   "metadata": {},
   "outputs": [
    {
     "name": "stdout",
     "output_type": "stream",
     "text": [
      "['Recife', 'Manaus']\n"
     ]
    }
   ],
   "source": [
    "# Removendo um item da lista através do conteúdo\n",
    "\n",
    "cidades = ['Recife', 'Manaus', 'Salvador']\n",
    "cidades.remove('Salvador')\n",
    "print(cidades)"
   ]
  },
  {
   "cell_type": "code",
   "execution_count": 4,
   "metadata": {},
   "outputs": [
    {
     "ename": "ValueError",
     "evalue": "list.remove(x): x not in list",
     "output_type": "error",
     "traceback": [
      "\u001b[0;31m---------------------------------------------------------------------------\u001b[0m",
      "\u001b[0;31mValueError\u001b[0m                                Traceback (most recent call last)",
      "\u001b[0;32m<ipython-input-4-e559738b4c71>\u001b[0m in \u001b[0;36m<module>\u001b[0;34m\u001b[0m\n\u001b[1;32m      1\u001b[0m \u001b[0;31m# Removendo um item inexistente da lista\u001b[0m\u001b[0;34m\u001b[0m\u001b[0;34m\u001b[0m\u001b[0m\n\u001b[1;32m      2\u001b[0m \u001b[0mcidades\u001b[0m \u001b[0;34m=\u001b[0m \u001b[0;34m[\u001b[0m\u001b[0;34m'Recife'\u001b[0m\u001b[0;34m,\u001b[0m \u001b[0;34m'Manaus'\u001b[0m\u001b[0;34m,\u001b[0m \u001b[0;34m'Salvador'\u001b[0m\u001b[0;34m]\u001b[0m\u001b[0;34m\u001b[0m\u001b[0m\n\u001b[0;32m----> 3\u001b[0;31m \u001b[0mcidades\u001b[0m\u001b[0;34m.\u001b[0m\u001b[0mremove\u001b[0m\u001b[0;34m(\u001b[0m\u001b[0;34m'Rio de Janeiro'\u001b[0m\u001b[0;34m)\u001b[0m\u001b[0;34m\u001b[0m\u001b[0m\n\u001b[0m\u001b[1;32m      4\u001b[0m \u001b[0mprint\u001b[0m\u001b[0;34m(\u001b[0m\u001b[0mcidades\u001b[0m\u001b[0;34m)\u001b[0m\u001b[0;34m\u001b[0m\u001b[0m\n",
      "\u001b[0;31mValueError\u001b[0m: list.remove(x): x not in list"
     ]
    }
   ],
   "source": [
    "# Removendo um item inexistente da lista\n",
    "\n",
    "cidades = ['Recife', 'Manaus', 'Salvador']\n",
    "cidades.remove('Rio de Janeiro')\n",
    "print(cidades)"
   ]
  },
  {
   "cell_type": "code",
   "execution_count": 25,
   "metadata": {},
   "outputs": [
    {
     "name": "stdout",
     "output_type": "stream",
     "text": [
      "[]\n"
     ]
    }
   ],
   "source": [
    "# Criando uma lista vazia\n",
    "a = []\n",
    "print(a)"
   ]
  },
  {
   "cell_type": "markdown",
   "metadata": {},
   "source": [
    "### Exercícios\n",
    "\n",
    "Atribua a uma variável em seu programa um string entre aspas triplas contendo esse documento:\n",
    "        \n",
    "> IDENTIFICAÇÃO DAS PARTES CONTRATANTES\n",
    "\n",
    "> VENDEDOR: (Nome), (Nacionalidade), (Estado Civil), C.P.F. nº (CPF);\n",
    "\n",
    "> COMPRADOR: (Nome), (Nacionalidade), (Estado Civil), C.P.F. nº (CPF).\n",
    "\n",
    "> As partes acima identificadas têm, entre si, justo e acertado o presente Contrato de Compra e Venda de Bem Imóvel à Vista entre Pessoas Físicas, que se regerá pelas cláusulas seguintes e pelas condições descritas no presente.\n",
    "        \n",
    "Escreva um programa recebe o nome do vendedor, nacionalidade, estado civil e cpf; assim como todas essas mesmas informações (nome, nacionalidade, estado civil e cpf) do comprador. \n",
    "\n",
    "Inicialmente, o programa deve imprimir as informações recebidas em formato de lista, tanto para o vendedor quanto para o comprador. Os nomes e as nacionalidades (tanto do vendedor quanto do comprador) devem ser apresentadas em maiúsculo. \n",
    "\n",
    "Seu programa deve imprimir no console, o documento gerado, referente à identificação das partes contrantes.\n",
    " \n",
    " "
   ]
  },
  {
   "cell_type": "markdown",
   "metadata": {},
   "source": [
    "## Referências\n",
    "\n",
    "#### https://github.com/dsacademybr/PythonFundamentos\n",
    "#### https://github.com/dsacademybr/PythonFundamentos/blob/master/Cap02/Notebooks/DSA-Python-Cap02-04-Listas.ipynb"
   ]
  },
  {
   "cell_type": "code",
   "execution_count": null,
   "metadata": {},
   "outputs": [],
   "source": []
  }
 ],
 "metadata": {
  "kernelspec": {
   "display_name": "Python 3",
   "language": "python",
   "name": "python3"
  },
  "language_info": {
   "codemirror_mode": {
    "name": "ipython",
    "version": 3
   },
   "file_extension": ".py",
   "mimetype": "text/x-python",
   "name": "python",
   "nbconvert_exporter": "python",
   "pygments_lexer": "ipython3",
   "version": "3.6.1"
  }
 },
 "nbformat": 4,
 "nbformat_minor": 2
}
