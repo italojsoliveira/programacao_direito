{
 "cells": [
  {
   "cell_type": "markdown",
   "metadata": {},
   "source": [
    "## Arquivos"
   ]
  },
  {
   "cell_type": "markdown",
   "metadata": {},
   "source": [
    "### Leitura de arquivos"
   ]
  },
  {
   "cell_type": "code",
   "execution_count": 9,
   "metadata": {},
   "outputs": [
    {
     "name": "stdout",
     "output_type": "stream",
     "text": [
      "Olá, mundo!\n"
     ]
    }
   ],
   "source": [
    "# Abrindo o arquivo para leitura\n",
    "arq1 = open(\"arquivo1.txt\", \"r\")\n",
    "\n",
    "# Lendo o arquivo\n",
    "print(arq1.read())"
   ]
  },
  {
   "cell_type": "code",
   "execution_count": 11,
   "metadata": {},
   "outputs": [
    {
     "name": "stdout",
     "output_type": "stream",
     "text": [
      "Olá, mundo!\n",
      "12\n"
     ]
    }
   ],
   "source": [
    "# Abrindo o arquivo para leitura\n",
    "arq1 = open(\"arquivo1.txt\", \"r\")\n",
    "\n",
    "# Lendo o arquivo\n",
    "print(arq1.read())\n",
    "\n",
    "# Contar o número de caracteres\n",
    "print(arq1.tell())"
   ]
  },
  {
   "cell_type": "code",
   "execution_count": 15,
   "metadata": {},
   "outputs": [
    {
     "name": "stdout",
     "output_type": "stream",
     "text": [
      "Olá,\n"
     ]
    }
   ],
   "source": [
    "# Abrindo o arquivo para leitura\n",
    "arq1 = open(\"arquivo1.txt\", \"r\")\n",
    "\n",
    "# Ler os primeiros 4 caracteres\n",
    "print(arq1.read(4))"
   ]
  },
  {
   "cell_type": "markdown",
   "metadata": {},
   "source": [
    "### Abrindo o arquivo para leitura"
   ]
  },
  {
   "cell_type": "code",
   "execution_count": 16,
   "metadata": {},
   "outputs": [],
   "source": [
    "# Abrindo arquivo para gravação\n",
    "arq2 = open(\"arquivo1.txt\", \"w\")"
   ]
  },
  {
   "cell_type": "code",
   "execution_count": 45,
   "metadata": {},
   "outputs": [
    {
     "ename": "UnsupportedOperation",
     "evalue": "not readable",
     "output_type": "error",
     "traceback": [
      "\u001b[0;31m---------------------------------------------------------------------------\u001b[0m",
      "\u001b[0;31mUnsupportedOperation\u001b[0m                      Traceback (most recent call last)",
      "\u001b[0;32m<ipython-input-45-492d30745644>\u001b[0m in \u001b[0;36m<module>\u001b[0;34m\u001b[0m\n\u001b[1;32m      3\u001b[0m \u001b[0;34m\u001b[0m\u001b[0m\n\u001b[1;32m      4\u001b[0m \u001b[0;31m# Como abrimos o arquivo apenas para gravação, não podemos usar comandos de leitura.\u001b[0m\u001b[0;34m\u001b[0m\u001b[0;34m\u001b[0m\u001b[0m\n\u001b[0;32m----> 5\u001b[0;31m \u001b[0mprint\u001b[0m\u001b[0;34m(\u001b[0m\u001b[0marq2\u001b[0m\u001b[0;34m.\u001b[0m\u001b[0mread\u001b[0m\u001b[0;34m(\u001b[0m\u001b[0;34m)\u001b[0m\u001b[0;34m)\u001b[0m\u001b[0;34m\u001b[0m\u001b[0m\n\u001b[0m",
      "\u001b[0;31mUnsupportedOperation\u001b[0m: not readable"
     ]
    }
   ],
   "source": [
    "# Abrindo arquivo para gravação\n",
    "arq2 = open(\"arquivo1.txt\", \"w\")\n",
    "\n",
    "# Como abrimos o arquivo apenas para gravação, não podemos usar comandos de leitura.\n",
    "print(arq2.read())"
   ]
  },
  {
   "cell_type": "markdown",
   "metadata": {},
   "source": [
    "### Escrevendo (Gravando) Arquivos"
   ]
  },
  {
   "cell_type": "code",
   "execution_count": 19,
   "metadata": {},
   "outputs": [
    {
     "data": {
      "text/plain": [
       "40"
      ]
     },
     "execution_count": 19,
     "metadata": {},
     "output_type": "execute_result"
    }
   ],
   "source": [
    "# Abrindo arquivo para gravação\n",
    "arq2 = open(\"arquivo2.txt\", \"w\")\n",
    "\n",
    "# Gravando arquivo\n",
    "arq2.write(\"Testando gravação de arquivos em Python \")"
   ]
  },
  {
   "cell_type": "code",
   "execution_count": 22,
   "metadata": {},
   "outputs": [],
   "source": [
    "# O programa anterior não funciona, porque precisamos fechar o arquivo!\n",
    "\n",
    "# Abrindo arquivo para gravação\n",
    "arq2 = open(\"arquivo2.txt\", \"w\")\n",
    "\n",
    "# Gravando arquivo\n",
    "arq2.write(\"Testando gravação de arquivos em Python \")\n",
    "\n",
    "# Fechar arquivo\n",
    "arq2.close()"
   ]
  },
  {
   "cell_type": "markdown",
   "metadata": {},
   "source": [
    "### Acrescendo conteúdo a um arquivo"
   ]
  },
  {
   "cell_type": "code",
   "execution_count": 23,
   "metadata": {},
   "outputs": [],
   "source": [
    "# Ler arquivo arquivo3.txt\n",
    "arq3 = open(\"arquivo3.txt\", \"a\")\n",
    "\n",
    "# Adicionar novo conteúdo\n",
    "arq3.write(\" Acrescentando conteúdo\")\n",
    "\n",
    "# Fechar arquivo\n",
    "arq3.close()"
   ]
  },
  {
   "cell_type": "markdown",
   "metadata": {},
   "source": [
    "### Ler arquivo .csv"
   ]
  },
  {
   "cell_type": "code",
   "execution_count": 46,
   "metadata": {},
   "outputs": [
    {
     "name": "stdout",
     "output_type": "stream",
     "text": [
      "['nome', 'nacionalidade', 'profissao', 'estado_civil', 'rg', 'cpf', 'rua', 'numero', 'bairro', 'estado', 'quantia_extenso', 'numero_cheque', 'banco\\n']\n",
      "['Maria', 'brasileira', '12345', 'advogada', 'solteira', '123', '1234', '\"Rua das Flores\"', '\"Boa Vista\"', 'Pernambuco', '12000', '000000', '\"Banco 1\"\\n']\n",
      "['Jose', 'brasileiro', '123456', 'dentista', 'casado', '124', '1235', '\"Rua do Egito\"', 'Natal', '\"Rio Grande do Norte', '15000', '111111', '\"Banco 2\"']\n"
     ]
    }
   ],
   "source": [
    "# Abre arquivo dados.csv em formato de leitura\n",
    "dados = open(\"dados.csv\", \"r\")\n",
    "\n",
    "# Leitura de cada linha do arquivo\n",
    "for linha in dados:\n",
    "    # Separa cada coluna como um dado e retorna uma lista\n",
    "    print(linha.split(','))\n",
    "    \n",
    "# Repare que o resultado contém uma lista com o cabeçalho do arquivo .csv!"
   ]
  },
  {
   "cell_type": "code",
   "execution_count": 43,
   "metadata": {},
   "outputs": [
    {
     "name": "stdout",
     "output_type": "stream",
     "text": [
      "Maria brasileira\n",
      "Jose brasileiro\n"
     ]
    }
   ],
   "source": [
    "import csv\n",
    "\n",
    "with open('dados.csv') as csvfile:\n",
    "    # Salva os dados do arquivo .csv através da chamada de função reader\n",
    "    readCSV = csv.reader(csvfile, delimiter=',')\n",
    "    \n",
    "    # Pular o cabeçalho\n",
    "    next(readCSV, None)\n",
    "    \n",
    "    # Leitura de cada linha do arquivo\n",
    "    for row in readCSV:\n",
    "        print(row[0], row[1])"
   ]
  },
  {
   "cell_type": "code",
   "execution_count": 44,
   "metadata": {},
   "outputs": [
    {
     "name": "stdout",
     "output_type": "stream",
     "text": [
      "Maria brasileira\n",
      "Jose brasileiro\n"
     ]
    }
   ],
   "source": [
    "import csv\n",
    "\n",
    "with open('dados.csv') as f:\n",
    "    # Salva os dados do arquivo .csv através do objeto DictReader\n",
    "    reader = csv.DictReader(f, delimiter=',')\n",
    "    \n",
    "    # Leitura de cada linha do arquivo\n",
    "    for row in reader:\n",
    "        # Acesso pelo nome da coluna ao invés do número da coluna\n",
    "        print(row['nome'] + \" \" + row['nacionalidade'])"
   ]
  },
  {
   "cell_type": "markdown",
   "metadata": {},
   "source": [
    "### Manipulação de arquivos de texto: % e .format()"
   ]
  },
  {
   "cell_type": "markdown",
   "metadata": {},
   "source": [
    "## Referências\n",
    "\n",
    "#### https://github.com/dsacademybr/PythonFundamentos\n",
    "#### https://github.com/dsacademybr/PythonFundamentos/blob/master/Cap04/Notebooks/DSA-Python-Cap04-01-Arquivos-Parte1.ipynb\n",
    "#### https://github.com/dsacademybr/PythonFundamentos/blob/master/Cap04/Notebooks/DSA-Python-Cap04-02-Arquivos-Parte2.ipynb\n",
    "#### https://stackoverflow.com/questions/14257373/skip-the-headers-when-editing-a-csv-file-using-python\n",
    "#### https://pythonprogramming.net/reading-csv-files-python-3/"
   ]
  },
  {
   "cell_type": "code",
   "execution_count": null,
   "metadata": {},
   "outputs": [],
   "source": []
  }
 ],
 "metadata": {
  "kernelspec": {
   "display_name": "Python 3",
   "language": "python",
   "name": "python3"
  },
  "language_info": {
   "codemirror_mode": {
    "name": "ipython",
    "version": 3
   },
   "file_extension": ".py",
   "mimetype": "text/x-python",
   "name": "python",
   "nbconvert_exporter": "python",
   "pygments_lexer": "ipython3",
   "version": "3.6.1"
  }
 },
 "nbformat": 4,
 "nbformat_minor": 2
}
