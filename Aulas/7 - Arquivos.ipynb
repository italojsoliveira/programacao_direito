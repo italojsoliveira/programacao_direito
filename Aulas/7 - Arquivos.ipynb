{
 "cells": [
  {
   "cell_type": "markdown",
   "metadata": {},
   "source": [
    "## Arquivos"
   ]
  },
  {
   "cell_type": "markdown",
   "metadata": {},
   "source": [
    "### Leitura de arquivos"
   ]
  },
  {
   "cell_type": "code",
   "execution_count": 9,
   "metadata": {},
   "outputs": [
    {
     "name": "stdout",
     "output_type": "stream",
     "text": [
      "Olá, mundo!\n"
     ]
    }
   ],
   "source": [
    "# Abrindo o arquivo para leitura, o \"r\" vem de \"read\" que significa \"ler\" em inglês\n",
    "arq1 = open(\"arquivo1.txt\", \"r\")\n",
    "\n",
    "# Lendo o arquivo\n",
    "print(arq1.read())"
   ]
  },
  {
   "cell_type": "markdown",
   "metadata": {},
   "source": [
    "### Abrindo o arquivo para leitura"
   ]
  },
  {
   "cell_type": "code",
   "execution_count": null,
   "metadata": {},
   "outputs": [],
   "source": [
    "# Abrindo arquivo para gravação, o \"w\" vem de \"write\" que significa \"escrever\" em inglês\n",
    "arq2 = open(\"arquivo1.txt\", \"w\")"
   ]
  },
  {
   "cell_type": "code",
   "execution_count": 45,
   "metadata": {},
   "outputs": [
    {
     "ename": "UnsupportedOperation",
     "evalue": "not readable",
     "output_type": "error",
     "traceback": [
      "\u001b[0;31m---------------------------------------------------------------------------\u001b[0m",
      "\u001b[0;31mUnsupportedOperation\u001b[0m                      Traceback (most recent call last)",
      "\u001b[0;32m<ipython-input-45-492d30745644>\u001b[0m in \u001b[0;36m<module>\u001b[0;34m\u001b[0m\n\u001b[1;32m      3\u001b[0m \u001b[0;34m\u001b[0m\u001b[0m\n\u001b[1;32m      4\u001b[0m \u001b[0;31m# Como abrimos o arquivo apenas para gravação, não podemos usar comandos de leitura.\u001b[0m\u001b[0;34m\u001b[0m\u001b[0;34m\u001b[0m\u001b[0m\n\u001b[0;32m----> 5\u001b[0;31m \u001b[0mprint\u001b[0m\u001b[0;34m(\u001b[0m\u001b[0marq2\u001b[0m\u001b[0;34m.\u001b[0m\u001b[0mread\u001b[0m\u001b[0;34m(\u001b[0m\u001b[0;34m)\u001b[0m\u001b[0;34m)\u001b[0m\u001b[0;34m\u001b[0m\u001b[0m\n\u001b[0m",
      "\u001b[0;31mUnsupportedOperation\u001b[0m: not readable"
     ]
    }
   ],
   "source": [
    "# Abrindo arquivo para gravação, o \"w\" vem de \"write\" que significa \"escrever\" em inglês\n",
    "arq2 = open(\"arquivo1.txt\", \"w\")\n",
    "\n",
    "# Como abrimos o arquivo apenas para gravação, não podemos usar comandos de leitura.\n",
    "print(arq2.read())"
   ]
  },
  {
   "cell_type": "markdown",
   "metadata": {},
   "source": [
    "### Escrevendo (Gravando) Arquivos"
   ]
  },
  {
   "cell_type": "code",
   "execution_count": 19,
   "metadata": {},
   "outputs": [
    {
     "data": {
      "text/plain": [
       "40"
      ]
     },
     "execution_count": 19,
     "metadata": {},
     "output_type": "execute_result"
    }
   ],
   "source": [
    "# Salva em uma variável o nome do arquivo\n",
    "nome_do_arquivo = \"arquivo2.txt\"\n",
    "\n",
    "# Abrindo arquivo para gravação, o \"w\" vem de \"write\" que significa \"escrever\" em inglês\n",
    "arq2 = open(nome_do_arquivo, \"w\")\n",
    "\n",
    "# Gravando arquivo\n",
    "arq2.write(\"Testando gravação de arquivos em Python \")"
   ]
  },
  {
   "cell_type": "code",
   "execution_count": 22,
   "metadata": {},
   "outputs": [],
   "source": [
    "# O programa anterior não funciona, porque precisamos fechar o arquivo!\n",
    "\n",
    "# Abrindo arquivo para gravação, o \"w\" vem de \"write\" que significa \"escrever\" em inglês\n",
    "arq2 = open(\"arquivo2.txt\", \"w\")\n",
    "\n",
    "# Gravando arquivo\n",
    "arq2.write(\"Testando gravação de arquivos em Python \")\n",
    "\n",
    "# Fechar arquivo\n",
    "arq2.close()"
   ]
  },
  {
   "cell_type": "markdown",
   "metadata": {},
   "source": [
    "### Acrescendo conteúdo a um arquivo"
   ]
  },
  {
   "cell_type": "code",
   "execution_count": 23,
   "metadata": {},
   "outputs": [],
   "source": [
    "# Ler arquivo arquivo3.txt, o \"a\" vem de \"append\" que significa \"acrescentar\" em inglês\n",
    "arq3 = open(\"arquivo3.txt\", \"a\")\n",
    "\n",
    "# Adicionar novo conteúdo\n",
    "arq3.write(\" Acrescentando conteúdo\")\n",
    "\n",
    "# Fechar arquivo\n",
    "arq3.close()"
   ]
  },
  {
   "cell_type": "markdown",
   "metadata": {},
   "source": [
    "### Ler arquivo .csv"
   ]
  },
  {
   "cell_type": "code",
   "execution_count": 46,
   "metadata": {},
   "outputs": [
    {
     "name": "stdout",
     "output_type": "stream",
     "text": [
      "['nome', 'nacionalidade', 'profissao', 'estado_civil', 'rg', 'cpf', 'rua', 'numero', 'bairro', 'estado', 'quantia_extenso', 'numero_cheque', 'banco\\n']\n",
      "['Maria', 'brasileira', '12345', 'advogada', 'solteira', '123', '1234', '\"Rua das Flores\"', '\"Boa Vista\"', 'Pernambuco', '12000', '000000', '\"Banco 1\"\\n']\n",
      "['Jose', 'brasileiro', '123456', 'dentista', 'casado', '124', '1235', '\"Rua do Egito\"', 'Natal', '\"Rio Grande do Norte', '15000', '111111', '\"Banco 2\"']\n"
     ]
    }
   ],
   "source": [
    "# Abre arquivo dados.csv em formato de leitura, o \"r\" vem de \"read\" que significa \"ler\" em inglês\n",
    "dados = open(\"dados.csv\", \"r\")\n",
    "\n",
    "# Leitura de cada linha do arquivo\n",
    "for linha in dados:\n",
    "    # Separa cada coluna como um dado e retorna uma lista\n",
    "    print(linha.split(','))\n",
    "    \n",
    "# Repare que o resultado contém uma lista com o cabeçalho do arquivo .csv!"
   ]
  },
  {
   "cell_type": "code",
   "execution_count": 43,
   "metadata": {},
   "outputs": [
    {
     "name": "stdout",
     "output_type": "stream",
     "text": [
      "Maria brasileira\n",
      "Jose brasileiro\n"
     ]
    }
   ],
   "source": [
    "import csv\n",
    "\n",
    "with open('dados.csv') as csvfile:\n",
    "    # Salva os dados do arquivo .csv através da chamada de função reader\n",
    "    readCSV = csv.reader(csvfile, delimiter=',')\n",
    "    \n",
    "    # Pular o cabeçalho\n",
    "    next(readCSV, None)\n",
    "    \n",
    "    # Leitura de cada linha do arquivo\n",
    "    for row in readCSV:\n",
    "        print(row[0], row[1])"
   ]
  },
  {
   "cell_type": "code",
   "execution_count": 44,
   "metadata": {},
   "outputs": [
    {
     "name": "stdout",
     "output_type": "stream",
     "text": [
      "Maria brasileira\n",
      "Jose brasileiro\n"
     ]
    }
   ],
   "source": [
    "import csv\n",
    "\n",
    "with open('dados.csv') as f:\n",
    "    # Salva os dados do arquivo .csv através do objeto DictReader\n",
    "    reader = csv.DictReader(f, delimiter=',')\n",
    "    \n",
    "    # Leitura de cada linha do arquivo\n",
    "    for row in reader:\n",
    "        # Acesso pelo nome da coluna ao invés do número da coluna\n",
    "        print(row['nome'] + \" \" + row['nacionalidade'])"
   ]
  },
  {
   "cell_type": "markdown",
   "metadata": {},
   "source": [
    "### Automatizando o processo de gravação em arquivos"
   ]
  },
  {
   "cell_type": "code",
   "execution_count": 3,
   "metadata": {},
   "outputs": [],
   "source": [
    "# Salvar arquivo com nome definido\n",
    "\n",
    "nome_arquivo = 'arquivo001.txt'\n",
    "\n",
    "# Abrir um arquivo com o nome definido, o \"w\" vem de \"write\" que significa \"escrever\" em inglês\n",
    "arq3 = open(nome_arquivo, \"w\")\n",
    "\n",
    "# Escrever um texto no arquivo\n",
    "arq3.write(\"Incluindo texto no arquivo criado\")\n",
    "\n",
    "# Fechar o arquivo (e salvar as modificações feitas)\n",
    "arq3.close()"
   ]
  },
  {
   "cell_type": "code",
   "execution_count": 4,
   "metadata": {},
   "outputs": [],
   "source": [
    "# Salvar vários arquivos com nomes diferentes\n",
    "\n",
    "contador = 1\n",
    "total_arquivos = 3\n",
    "\n",
    "# Para cada arquivo que vamos salvar\n",
    "while contador <= total_arquivos:\n",
    "    # Abra um arquivo com um nome diferente\n",
    "    arquivo = open('arquivo00' + str(contador) + '.txt', \"w\")\n",
    "    \n",
    "    # Escreva algo no arquivo\n",
    "    arquivo.write(\"Incluindo texto no arquivo criado\")\n",
    "    \n",
    "    # Feche o arquivo\n",
    "    arquivo.close()\n",
    "    \n",
    "    # Incremente o contador\n",
    "    contador = contador + 1"
   ]
  },
  {
   "cell_type": "markdown",
   "metadata": {},
   "source": [
    "### Manipulação de arquivos de texto: .format()"
   ]
  },
  {
   "cell_type": "code",
   "execution_count": 2,
   "metadata": {},
   "outputs": [
    {
     "name": "stdout",
     "output_type": "stream",
     "text": [
      "\n",
      "Nome: Leon\n",
      "Idade: 34\n",
      "Altura: 1.65\n",
      "\n"
     ]
    }
   ],
   "source": [
    "# Substituir strings em outras strings\n",
    "template_documento = '''\n",
    "Nome: {}\n",
    "Idade: {}\n",
    "Altura: {}\n",
    "'''\n",
    "print(template_documento.format('Leon', 34, 1.65))"
   ]
  },
  {
   "cell_type": "markdown",
   "metadata": {},
   "source": [
    "## Referências\n",
    "\n",
    "#### https://github.com/dsacademybr/PythonFundamentos\n",
    "#### https://github.com/dsacademybr/PythonFundamentos/blob/master/Cap04/Notebooks/DSA-Python-Cap04-01-Arquivos-Parte1.ipynb\n",
    "#### https://github.com/dsacademybr/PythonFundamentos/blob/master/Cap04/Notebooks/DSA-Python-Cap04-02-Arquivos-Parte2.ipynb\n",
    "#### https://stackoverflow.com/questions/14257373/skip-the-headers-when-editing-a-csv-file-using-python\n",
    "#### https://pythonprogramming.net/reading-csv-files-python-3/"
   ]
  },
  {
   "cell_type": "code",
   "execution_count": null,
   "metadata": {},
   "outputs": [],
   "source": []
  }
 ],
 "metadata": {
  "kernelspec": {
   "display_name": "Python 3",
   "language": "python",
   "name": "python3"
  },
  "language_info": {
   "codemirror_mode": {
    "name": "ipython",
    "version": 3
   },
   "file_extension": ".py",
   "mimetype": "text/x-python",
   "name": "python",
   "nbconvert_exporter": "python",
   "pygments_lexer": "ipython3",
   "version": "3.6.1"
  }
 },
 "nbformat": 4,
 "nbformat_minor": 2
}
